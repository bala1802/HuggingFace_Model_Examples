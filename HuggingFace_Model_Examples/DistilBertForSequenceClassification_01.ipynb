{
  "nbformat": 4,
  "nbformat_minor": 0,
  "metadata": {
    "colab": {
      "name": "DistilBertForSequenceClassification_01.ipynb",
      "provenance": [],
      "collapsed_sections": []
    },
    "kernelspec": {
      "name": "python3",
      "display_name": "Python 3"
    },
    "accelerator": "GPU",
    "widgets": {
      "application/vnd.jupyter.widget-state+json": {
        "45ad51d620fc484f9357faf1ceabaaec": {
          "model_module": "@jupyter-widgets/controls",
          "model_name": "HBoxModel",
          "state": {
            "_view_name": "HBoxView",
            "_dom_classes": [],
            "_model_name": "HBoxModel",
            "_view_module": "@jupyter-widgets/controls",
            "_model_module_version": "1.5.0",
            "_view_count": null,
            "_view_module_version": "1.5.0",
            "box_style": "",
            "layout": "IPY_MODEL_94430dd797fe46d698d93799e8bbd5b6",
            "_model_module": "@jupyter-widgets/controls",
            "children": [
              "IPY_MODEL_5418f1ad444a4c438f693219e4a274a0",
              "IPY_MODEL_d62f7eabb0bc4ed19f6678c5e4fc8f6a"
            ]
          }
        },
        "94430dd797fe46d698d93799e8bbd5b6": {
          "model_module": "@jupyter-widgets/base",
          "model_name": "LayoutModel",
          "state": {
            "_view_name": "LayoutView",
            "grid_template_rows": null,
            "right": null,
            "justify_content": null,
            "_view_module": "@jupyter-widgets/base",
            "overflow": null,
            "_model_module_version": "1.2.0",
            "_view_count": null,
            "flex_flow": null,
            "width": null,
            "min_width": null,
            "border": null,
            "align_items": null,
            "bottom": null,
            "_model_module": "@jupyter-widgets/base",
            "top": null,
            "grid_column": null,
            "overflow_y": null,
            "overflow_x": null,
            "grid_auto_flow": null,
            "grid_area": null,
            "grid_template_columns": null,
            "flex": null,
            "_model_name": "LayoutModel",
            "justify_items": null,
            "grid_row": null,
            "max_height": null,
            "align_content": null,
            "visibility": null,
            "align_self": null,
            "height": null,
            "min_height": null,
            "padding": null,
            "grid_auto_rows": null,
            "grid_gap": null,
            "max_width": null,
            "order": null,
            "_view_module_version": "1.2.0",
            "grid_template_areas": null,
            "object_position": null,
            "object_fit": null,
            "grid_auto_columns": null,
            "margin": null,
            "display": null,
            "left": null
          }
        },
        "5418f1ad444a4c438f693219e4a274a0": {
          "model_module": "@jupyter-widgets/controls",
          "model_name": "FloatProgressModel",
          "state": {
            "_view_name": "ProgressView",
            "style": "IPY_MODEL_781239ff0f3c40749521d2575afa1558",
            "_dom_classes": [],
            "description": "Downloading: 100%",
            "_model_name": "FloatProgressModel",
            "bar_style": "success",
            "max": 231508,
            "_view_module": "@jupyter-widgets/controls",
            "_model_module_version": "1.5.0",
            "value": 231508,
            "_view_count": null,
            "_view_module_version": "1.5.0",
            "orientation": "horizontal",
            "min": 0,
            "description_tooltip": null,
            "_model_module": "@jupyter-widgets/controls",
            "layout": "IPY_MODEL_1d2241ef6ffe4a429baa0d74b7635b28"
          }
        },
        "d62f7eabb0bc4ed19f6678c5e4fc8f6a": {
          "model_module": "@jupyter-widgets/controls",
          "model_name": "HTMLModel",
          "state": {
            "_view_name": "HTMLView",
            "style": "IPY_MODEL_d0da77928d2f4133994b8102e631d115",
            "_dom_classes": [],
            "description": "",
            "_model_name": "HTMLModel",
            "placeholder": "​",
            "_view_module": "@jupyter-widgets/controls",
            "_model_module_version": "1.5.0",
            "value": " 232k/232k [00:00&lt;00:00, 2.74MB/s]",
            "_view_count": null,
            "_view_module_version": "1.5.0",
            "description_tooltip": null,
            "_model_module": "@jupyter-widgets/controls",
            "layout": "IPY_MODEL_b1124062b9134c39a31c878c5ea1b1dd"
          }
        },
        "781239ff0f3c40749521d2575afa1558": {
          "model_module": "@jupyter-widgets/controls",
          "model_name": "ProgressStyleModel",
          "state": {
            "_view_name": "StyleView",
            "_model_name": "ProgressStyleModel",
            "description_width": "initial",
            "_view_module": "@jupyter-widgets/base",
            "_model_module_version": "1.5.0",
            "_view_count": null,
            "_view_module_version": "1.2.0",
            "bar_color": null,
            "_model_module": "@jupyter-widgets/controls"
          }
        },
        "1d2241ef6ffe4a429baa0d74b7635b28": {
          "model_module": "@jupyter-widgets/base",
          "model_name": "LayoutModel",
          "state": {
            "_view_name": "LayoutView",
            "grid_template_rows": null,
            "right": null,
            "justify_content": null,
            "_view_module": "@jupyter-widgets/base",
            "overflow": null,
            "_model_module_version": "1.2.0",
            "_view_count": null,
            "flex_flow": null,
            "width": null,
            "min_width": null,
            "border": null,
            "align_items": null,
            "bottom": null,
            "_model_module": "@jupyter-widgets/base",
            "top": null,
            "grid_column": null,
            "overflow_y": null,
            "overflow_x": null,
            "grid_auto_flow": null,
            "grid_area": null,
            "grid_template_columns": null,
            "flex": null,
            "_model_name": "LayoutModel",
            "justify_items": null,
            "grid_row": null,
            "max_height": null,
            "align_content": null,
            "visibility": null,
            "align_self": null,
            "height": null,
            "min_height": null,
            "padding": null,
            "grid_auto_rows": null,
            "grid_gap": null,
            "max_width": null,
            "order": null,
            "_view_module_version": "1.2.0",
            "grid_template_areas": null,
            "object_position": null,
            "object_fit": null,
            "grid_auto_columns": null,
            "margin": null,
            "display": null,
            "left": null
          }
        },
        "d0da77928d2f4133994b8102e631d115": {
          "model_module": "@jupyter-widgets/controls",
          "model_name": "DescriptionStyleModel",
          "state": {
            "_view_name": "StyleView",
            "_model_name": "DescriptionStyleModel",
            "description_width": "",
            "_view_module": "@jupyter-widgets/base",
            "_model_module_version": "1.5.0",
            "_view_count": null,
            "_view_module_version": "1.2.0",
            "_model_module": "@jupyter-widgets/controls"
          }
        },
        "b1124062b9134c39a31c878c5ea1b1dd": {
          "model_module": "@jupyter-widgets/base",
          "model_name": "LayoutModel",
          "state": {
            "_view_name": "LayoutView",
            "grid_template_rows": null,
            "right": null,
            "justify_content": null,
            "_view_module": "@jupyter-widgets/base",
            "overflow": null,
            "_model_module_version": "1.2.0",
            "_view_count": null,
            "flex_flow": null,
            "width": null,
            "min_width": null,
            "border": null,
            "align_items": null,
            "bottom": null,
            "_model_module": "@jupyter-widgets/base",
            "top": null,
            "grid_column": null,
            "overflow_y": null,
            "overflow_x": null,
            "grid_auto_flow": null,
            "grid_area": null,
            "grid_template_columns": null,
            "flex": null,
            "_model_name": "LayoutModel",
            "justify_items": null,
            "grid_row": null,
            "max_height": null,
            "align_content": null,
            "visibility": null,
            "align_self": null,
            "height": null,
            "min_height": null,
            "padding": null,
            "grid_auto_rows": null,
            "grid_gap": null,
            "max_width": null,
            "order": null,
            "_view_module_version": "1.2.0",
            "grid_template_areas": null,
            "object_position": null,
            "object_fit": null,
            "grid_auto_columns": null,
            "margin": null,
            "display": null,
            "left": null
          }
        },
        "b50887c274dd490db309eb0267033324": {
          "model_module": "@jupyter-widgets/controls",
          "model_name": "HBoxModel",
          "state": {
            "_view_name": "HBoxView",
            "_dom_classes": [],
            "_model_name": "HBoxModel",
            "_view_module": "@jupyter-widgets/controls",
            "_model_module_version": "1.5.0",
            "_view_count": null,
            "_view_module_version": "1.5.0",
            "box_style": "",
            "layout": "IPY_MODEL_bb612297ffa44927b4f881e39da4b971",
            "_model_module": "@jupyter-widgets/controls",
            "children": [
              "IPY_MODEL_e5cd0674986b4a47bb51b5d347f949a6",
              "IPY_MODEL_aa1aadb652cf42a1a62cfc4b448d5550"
            ]
          }
        },
        "bb612297ffa44927b4f881e39da4b971": {
          "model_module": "@jupyter-widgets/base",
          "model_name": "LayoutModel",
          "state": {
            "_view_name": "LayoutView",
            "grid_template_rows": null,
            "right": null,
            "justify_content": null,
            "_view_module": "@jupyter-widgets/base",
            "overflow": null,
            "_model_module_version": "1.2.0",
            "_view_count": null,
            "flex_flow": null,
            "width": null,
            "min_width": null,
            "border": null,
            "align_items": null,
            "bottom": null,
            "_model_module": "@jupyter-widgets/base",
            "top": null,
            "grid_column": null,
            "overflow_y": null,
            "overflow_x": null,
            "grid_auto_flow": null,
            "grid_area": null,
            "grid_template_columns": null,
            "flex": null,
            "_model_name": "LayoutModel",
            "justify_items": null,
            "grid_row": null,
            "max_height": null,
            "align_content": null,
            "visibility": null,
            "align_self": null,
            "height": null,
            "min_height": null,
            "padding": null,
            "grid_auto_rows": null,
            "grid_gap": null,
            "max_width": null,
            "order": null,
            "_view_module_version": "1.2.0",
            "grid_template_areas": null,
            "object_position": null,
            "object_fit": null,
            "grid_auto_columns": null,
            "margin": null,
            "display": null,
            "left": null
          }
        },
        "e5cd0674986b4a47bb51b5d347f949a6": {
          "model_module": "@jupyter-widgets/controls",
          "model_name": "FloatProgressModel",
          "state": {
            "_view_name": "ProgressView",
            "style": "IPY_MODEL_29591ea3c5f945b889e45d2af02260d6",
            "_dom_classes": [],
            "description": "Downloading: 100%",
            "_model_name": "FloatProgressModel",
            "bar_style": "success",
            "max": 466062,
            "_view_module": "@jupyter-widgets/controls",
            "_model_module_version": "1.5.0",
            "value": 466062,
            "_view_count": null,
            "_view_module_version": "1.5.0",
            "orientation": "horizontal",
            "min": 0,
            "description_tooltip": null,
            "_model_module": "@jupyter-widgets/controls",
            "layout": "IPY_MODEL_9bb9fd7ea2f647108273b9a55bbd90a6"
          }
        },
        "aa1aadb652cf42a1a62cfc4b448d5550": {
          "model_module": "@jupyter-widgets/controls",
          "model_name": "HTMLModel",
          "state": {
            "_view_name": "HTMLView",
            "style": "IPY_MODEL_137f78448b5e4b14b9c8719d88e1b038",
            "_dom_classes": [],
            "description": "",
            "_model_name": "HTMLModel",
            "placeholder": "​",
            "_view_module": "@jupyter-widgets/controls",
            "_model_module_version": "1.5.0",
            "value": " 466k/466k [00:46&lt;00:00, 10.1kB/s]",
            "_view_count": null,
            "_view_module_version": "1.5.0",
            "description_tooltip": null,
            "_model_module": "@jupyter-widgets/controls",
            "layout": "IPY_MODEL_a707b5762e384ca8a5b1b83dcb9b9489"
          }
        },
        "29591ea3c5f945b889e45d2af02260d6": {
          "model_module": "@jupyter-widgets/controls",
          "model_name": "ProgressStyleModel",
          "state": {
            "_view_name": "StyleView",
            "_model_name": "ProgressStyleModel",
            "description_width": "initial",
            "_view_module": "@jupyter-widgets/base",
            "_model_module_version": "1.5.0",
            "_view_count": null,
            "_view_module_version": "1.2.0",
            "bar_color": null,
            "_model_module": "@jupyter-widgets/controls"
          }
        },
        "9bb9fd7ea2f647108273b9a55bbd90a6": {
          "model_module": "@jupyter-widgets/base",
          "model_name": "LayoutModel",
          "state": {
            "_view_name": "LayoutView",
            "grid_template_rows": null,
            "right": null,
            "justify_content": null,
            "_view_module": "@jupyter-widgets/base",
            "overflow": null,
            "_model_module_version": "1.2.0",
            "_view_count": null,
            "flex_flow": null,
            "width": null,
            "min_width": null,
            "border": null,
            "align_items": null,
            "bottom": null,
            "_model_module": "@jupyter-widgets/base",
            "top": null,
            "grid_column": null,
            "overflow_y": null,
            "overflow_x": null,
            "grid_auto_flow": null,
            "grid_area": null,
            "grid_template_columns": null,
            "flex": null,
            "_model_name": "LayoutModel",
            "justify_items": null,
            "grid_row": null,
            "max_height": null,
            "align_content": null,
            "visibility": null,
            "align_self": null,
            "height": null,
            "min_height": null,
            "padding": null,
            "grid_auto_rows": null,
            "grid_gap": null,
            "max_width": null,
            "order": null,
            "_view_module_version": "1.2.0",
            "grid_template_areas": null,
            "object_position": null,
            "object_fit": null,
            "grid_auto_columns": null,
            "margin": null,
            "display": null,
            "left": null
          }
        },
        "137f78448b5e4b14b9c8719d88e1b038": {
          "model_module": "@jupyter-widgets/controls",
          "model_name": "DescriptionStyleModel",
          "state": {
            "_view_name": "StyleView",
            "_model_name": "DescriptionStyleModel",
            "description_width": "",
            "_view_module": "@jupyter-widgets/base",
            "_model_module_version": "1.5.0",
            "_view_count": null,
            "_view_module_version": "1.2.0",
            "_model_module": "@jupyter-widgets/controls"
          }
        },
        "a707b5762e384ca8a5b1b83dcb9b9489": {
          "model_module": "@jupyter-widgets/base",
          "model_name": "LayoutModel",
          "state": {
            "_view_name": "LayoutView",
            "grid_template_rows": null,
            "right": null,
            "justify_content": null,
            "_view_module": "@jupyter-widgets/base",
            "overflow": null,
            "_model_module_version": "1.2.0",
            "_view_count": null,
            "flex_flow": null,
            "width": null,
            "min_width": null,
            "border": null,
            "align_items": null,
            "bottom": null,
            "_model_module": "@jupyter-widgets/base",
            "top": null,
            "grid_column": null,
            "overflow_y": null,
            "overflow_x": null,
            "grid_auto_flow": null,
            "grid_area": null,
            "grid_template_columns": null,
            "flex": null,
            "_model_name": "LayoutModel",
            "justify_items": null,
            "grid_row": null,
            "max_height": null,
            "align_content": null,
            "visibility": null,
            "align_self": null,
            "height": null,
            "min_height": null,
            "padding": null,
            "grid_auto_rows": null,
            "grid_gap": null,
            "max_width": null,
            "order": null,
            "_view_module_version": "1.2.0",
            "grid_template_areas": null,
            "object_position": null,
            "object_fit": null,
            "grid_auto_columns": null,
            "margin": null,
            "display": null,
            "left": null
          }
        },
        "7dc3c1126c14455896bda4f9e4f8b6b8": {
          "model_module": "@jupyter-widgets/controls",
          "model_name": "HBoxModel",
          "state": {
            "_view_name": "HBoxView",
            "_dom_classes": [],
            "_model_name": "HBoxModel",
            "_view_module": "@jupyter-widgets/controls",
            "_model_module_version": "1.5.0",
            "_view_count": null,
            "_view_module_version": "1.5.0",
            "box_style": "",
            "layout": "IPY_MODEL_a7fb038f7777459aa273e071f23303eb",
            "_model_module": "@jupyter-widgets/controls",
            "children": [
              "IPY_MODEL_2e3954c7ffd2474c903495fc4bc5b23f",
              "IPY_MODEL_ed9649373c0246958b292afa5c729617"
            ]
          }
        },
        "a7fb038f7777459aa273e071f23303eb": {
          "model_module": "@jupyter-widgets/base",
          "model_name": "LayoutModel",
          "state": {
            "_view_name": "LayoutView",
            "grid_template_rows": null,
            "right": null,
            "justify_content": null,
            "_view_module": "@jupyter-widgets/base",
            "overflow": null,
            "_model_module_version": "1.2.0",
            "_view_count": null,
            "flex_flow": null,
            "width": null,
            "min_width": null,
            "border": null,
            "align_items": null,
            "bottom": null,
            "_model_module": "@jupyter-widgets/base",
            "top": null,
            "grid_column": null,
            "overflow_y": null,
            "overflow_x": null,
            "grid_auto_flow": null,
            "grid_area": null,
            "grid_template_columns": null,
            "flex": null,
            "_model_name": "LayoutModel",
            "justify_items": null,
            "grid_row": null,
            "max_height": null,
            "align_content": null,
            "visibility": null,
            "align_self": null,
            "height": null,
            "min_height": null,
            "padding": null,
            "grid_auto_rows": null,
            "grid_gap": null,
            "max_width": null,
            "order": null,
            "_view_module_version": "1.2.0",
            "grid_template_areas": null,
            "object_position": null,
            "object_fit": null,
            "grid_auto_columns": null,
            "margin": null,
            "display": null,
            "left": null
          }
        },
        "2e3954c7ffd2474c903495fc4bc5b23f": {
          "model_module": "@jupyter-widgets/controls",
          "model_name": "FloatProgressModel",
          "state": {
            "_view_name": "ProgressView",
            "style": "IPY_MODEL_6d56c64350d64c82921a172c08ca996c",
            "_dom_classes": [],
            "description": "Downloading: 100%",
            "_model_name": "FloatProgressModel",
            "bar_style": "success",
            "max": 442,
            "_view_module": "@jupyter-widgets/controls",
            "_model_module_version": "1.5.0",
            "value": 442,
            "_view_count": null,
            "_view_module_version": "1.5.0",
            "orientation": "horizontal",
            "min": 0,
            "description_tooltip": null,
            "_model_module": "@jupyter-widgets/controls",
            "layout": "IPY_MODEL_2ebbadbc16774718bc5c2f85e802cb9a"
          }
        },
        "ed9649373c0246958b292afa5c729617": {
          "model_module": "@jupyter-widgets/controls",
          "model_name": "HTMLModel",
          "state": {
            "_view_name": "HTMLView",
            "style": "IPY_MODEL_a9f43644a0734aa08bac9e270dd2e6ee",
            "_dom_classes": [],
            "description": "",
            "_model_name": "HTMLModel",
            "placeholder": "​",
            "_view_module": "@jupyter-widgets/controls",
            "_model_module_version": "1.5.0",
            "value": " 442/442 [00:00&lt;00:00, 2.13kB/s]",
            "_view_count": null,
            "_view_module_version": "1.5.0",
            "description_tooltip": null,
            "_model_module": "@jupyter-widgets/controls",
            "layout": "IPY_MODEL_0f765e3c4f004357a79ea82e9b625193"
          }
        },
        "6d56c64350d64c82921a172c08ca996c": {
          "model_module": "@jupyter-widgets/controls",
          "model_name": "ProgressStyleModel",
          "state": {
            "_view_name": "StyleView",
            "_model_name": "ProgressStyleModel",
            "description_width": "initial",
            "_view_module": "@jupyter-widgets/base",
            "_model_module_version": "1.5.0",
            "_view_count": null,
            "_view_module_version": "1.2.0",
            "bar_color": null,
            "_model_module": "@jupyter-widgets/controls"
          }
        },
        "2ebbadbc16774718bc5c2f85e802cb9a": {
          "model_module": "@jupyter-widgets/base",
          "model_name": "LayoutModel",
          "state": {
            "_view_name": "LayoutView",
            "grid_template_rows": null,
            "right": null,
            "justify_content": null,
            "_view_module": "@jupyter-widgets/base",
            "overflow": null,
            "_model_module_version": "1.2.0",
            "_view_count": null,
            "flex_flow": null,
            "width": null,
            "min_width": null,
            "border": null,
            "align_items": null,
            "bottom": null,
            "_model_module": "@jupyter-widgets/base",
            "top": null,
            "grid_column": null,
            "overflow_y": null,
            "overflow_x": null,
            "grid_auto_flow": null,
            "grid_area": null,
            "grid_template_columns": null,
            "flex": null,
            "_model_name": "LayoutModel",
            "justify_items": null,
            "grid_row": null,
            "max_height": null,
            "align_content": null,
            "visibility": null,
            "align_self": null,
            "height": null,
            "min_height": null,
            "padding": null,
            "grid_auto_rows": null,
            "grid_gap": null,
            "max_width": null,
            "order": null,
            "_view_module_version": "1.2.0",
            "grid_template_areas": null,
            "object_position": null,
            "object_fit": null,
            "grid_auto_columns": null,
            "margin": null,
            "display": null,
            "left": null
          }
        },
        "a9f43644a0734aa08bac9e270dd2e6ee": {
          "model_module": "@jupyter-widgets/controls",
          "model_name": "DescriptionStyleModel",
          "state": {
            "_view_name": "StyleView",
            "_model_name": "DescriptionStyleModel",
            "description_width": "",
            "_view_module": "@jupyter-widgets/base",
            "_model_module_version": "1.5.0",
            "_view_count": null,
            "_view_module_version": "1.2.0",
            "_model_module": "@jupyter-widgets/controls"
          }
        },
        "0f765e3c4f004357a79ea82e9b625193": {
          "model_module": "@jupyter-widgets/base",
          "model_name": "LayoutModel",
          "state": {
            "_view_name": "LayoutView",
            "grid_template_rows": null,
            "right": null,
            "justify_content": null,
            "_view_module": "@jupyter-widgets/base",
            "overflow": null,
            "_model_module_version": "1.2.0",
            "_view_count": null,
            "flex_flow": null,
            "width": null,
            "min_width": null,
            "border": null,
            "align_items": null,
            "bottom": null,
            "_model_module": "@jupyter-widgets/base",
            "top": null,
            "grid_column": null,
            "overflow_y": null,
            "overflow_x": null,
            "grid_auto_flow": null,
            "grid_area": null,
            "grid_template_columns": null,
            "flex": null,
            "_model_name": "LayoutModel",
            "justify_items": null,
            "grid_row": null,
            "max_height": null,
            "align_content": null,
            "visibility": null,
            "align_self": null,
            "height": null,
            "min_height": null,
            "padding": null,
            "grid_auto_rows": null,
            "grid_gap": null,
            "max_width": null,
            "order": null,
            "_view_module_version": "1.2.0",
            "grid_template_areas": null,
            "object_position": null,
            "object_fit": null,
            "grid_auto_columns": null,
            "margin": null,
            "display": null,
            "left": null
          }
        },
        "cef9e897b43f4ea0bcc023c8c7a454f7": {
          "model_module": "@jupyter-widgets/controls",
          "model_name": "HBoxModel",
          "state": {
            "_view_name": "HBoxView",
            "_dom_classes": [],
            "_model_name": "HBoxModel",
            "_view_module": "@jupyter-widgets/controls",
            "_model_module_version": "1.5.0",
            "_view_count": null,
            "_view_module_version": "1.5.0",
            "box_style": "",
            "layout": "IPY_MODEL_f83579906f9943d5a5f8bf0969b9c728",
            "_model_module": "@jupyter-widgets/controls",
            "children": [
              "IPY_MODEL_b93f09fc854c424286904ff0b24c49f6",
              "IPY_MODEL_16d405090d5843a9b725a16aa0964f5f"
            ]
          }
        },
        "f83579906f9943d5a5f8bf0969b9c728": {
          "model_module": "@jupyter-widgets/base",
          "model_name": "LayoutModel",
          "state": {
            "_view_name": "LayoutView",
            "grid_template_rows": null,
            "right": null,
            "justify_content": null,
            "_view_module": "@jupyter-widgets/base",
            "overflow": null,
            "_model_module_version": "1.2.0",
            "_view_count": null,
            "flex_flow": null,
            "width": null,
            "min_width": null,
            "border": null,
            "align_items": null,
            "bottom": null,
            "_model_module": "@jupyter-widgets/base",
            "top": null,
            "grid_column": null,
            "overflow_y": null,
            "overflow_x": null,
            "grid_auto_flow": null,
            "grid_area": null,
            "grid_template_columns": null,
            "flex": null,
            "_model_name": "LayoutModel",
            "justify_items": null,
            "grid_row": null,
            "max_height": null,
            "align_content": null,
            "visibility": null,
            "align_self": null,
            "height": null,
            "min_height": null,
            "padding": null,
            "grid_auto_rows": null,
            "grid_gap": null,
            "max_width": null,
            "order": null,
            "_view_module_version": "1.2.0",
            "grid_template_areas": null,
            "object_position": null,
            "object_fit": null,
            "grid_auto_columns": null,
            "margin": null,
            "display": null,
            "left": null
          }
        },
        "b93f09fc854c424286904ff0b24c49f6": {
          "model_module": "@jupyter-widgets/controls",
          "model_name": "FloatProgressModel",
          "state": {
            "_view_name": "ProgressView",
            "style": "IPY_MODEL_f78e2b22713f4fa78d539274512231ee",
            "_dom_classes": [],
            "description": "Downloading: 100%",
            "_model_name": "FloatProgressModel",
            "bar_style": "success",
            "max": 363423424,
            "_view_module": "@jupyter-widgets/controls",
            "_model_module_version": "1.5.0",
            "value": 363423424,
            "_view_count": null,
            "_view_module_version": "1.5.0",
            "orientation": "horizontal",
            "min": 0,
            "description_tooltip": null,
            "_model_module": "@jupyter-widgets/controls",
            "layout": "IPY_MODEL_df8b780588684083b921761679d5163e"
          }
        },
        "16d405090d5843a9b725a16aa0964f5f": {
          "model_module": "@jupyter-widgets/controls",
          "model_name": "HTMLModel",
          "state": {
            "_view_name": "HTMLView",
            "style": "IPY_MODEL_534dc61f639e46eb92d7bebad1277f05",
            "_dom_classes": [],
            "description": "",
            "_model_name": "HTMLModel",
            "placeholder": "​",
            "_view_module": "@jupyter-widgets/controls",
            "_model_module_version": "1.5.0",
            "value": " 363M/363M [00:06&lt;00:00, 52.6MB/s]",
            "_view_count": null,
            "_view_module_version": "1.5.0",
            "description_tooltip": null,
            "_model_module": "@jupyter-widgets/controls",
            "layout": "IPY_MODEL_4ec8e70dca7049dc984fb97fca590e42"
          }
        },
        "f78e2b22713f4fa78d539274512231ee": {
          "model_module": "@jupyter-widgets/controls",
          "model_name": "ProgressStyleModel",
          "state": {
            "_view_name": "StyleView",
            "_model_name": "ProgressStyleModel",
            "description_width": "initial",
            "_view_module": "@jupyter-widgets/base",
            "_model_module_version": "1.5.0",
            "_view_count": null,
            "_view_module_version": "1.2.0",
            "bar_color": null,
            "_model_module": "@jupyter-widgets/controls"
          }
        },
        "df8b780588684083b921761679d5163e": {
          "model_module": "@jupyter-widgets/base",
          "model_name": "LayoutModel",
          "state": {
            "_view_name": "LayoutView",
            "grid_template_rows": null,
            "right": null,
            "justify_content": null,
            "_view_module": "@jupyter-widgets/base",
            "overflow": null,
            "_model_module_version": "1.2.0",
            "_view_count": null,
            "flex_flow": null,
            "width": null,
            "min_width": null,
            "border": null,
            "align_items": null,
            "bottom": null,
            "_model_module": "@jupyter-widgets/base",
            "top": null,
            "grid_column": null,
            "overflow_y": null,
            "overflow_x": null,
            "grid_auto_flow": null,
            "grid_area": null,
            "grid_template_columns": null,
            "flex": null,
            "_model_name": "LayoutModel",
            "justify_items": null,
            "grid_row": null,
            "max_height": null,
            "align_content": null,
            "visibility": null,
            "align_self": null,
            "height": null,
            "min_height": null,
            "padding": null,
            "grid_auto_rows": null,
            "grid_gap": null,
            "max_width": null,
            "order": null,
            "_view_module_version": "1.2.0",
            "grid_template_areas": null,
            "object_position": null,
            "object_fit": null,
            "grid_auto_columns": null,
            "margin": null,
            "display": null,
            "left": null
          }
        },
        "534dc61f639e46eb92d7bebad1277f05": {
          "model_module": "@jupyter-widgets/controls",
          "model_name": "DescriptionStyleModel",
          "state": {
            "_view_name": "StyleView",
            "_model_name": "DescriptionStyleModel",
            "description_width": "",
            "_view_module": "@jupyter-widgets/base",
            "_model_module_version": "1.5.0",
            "_view_count": null,
            "_view_module_version": "1.2.0",
            "_model_module": "@jupyter-widgets/controls"
          }
        },
        "4ec8e70dca7049dc984fb97fca590e42": {
          "model_module": "@jupyter-widgets/base",
          "model_name": "LayoutModel",
          "state": {
            "_view_name": "LayoutView",
            "grid_template_rows": null,
            "right": null,
            "justify_content": null,
            "_view_module": "@jupyter-widgets/base",
            "overflow": null,
            "_model_module_version": "1.2.0",
            "_view_count": null,
            "flex_flow": null,
            "width": null,
            "min_width": null,
            "border": null,
            "align_items": null,
            "bottom": null,
            "_model_module": "@jupyter-widgets/base",
            "top": null,
            "grid_column": null,
            "overflow_y": null,
            "overflow_x": null,
            "grid_auto_flow": null,
            "grid_area": null,
            "grid_template_columns": null,
            "flex": null,
            "_model_name": "LayoutModel",
            "justify_items": null,
            "grid_row": null,
            "max_height": null,
            "align_content": null,
            "visibility": null,
            "align_self": null,
            "height": null,
            "min_height": null,
            "padding": null,
            "grid_auto_rows": null,
            "grid_gap": null,
            "max_width": null,
            "order": null,
            "_view_module_version": "1.2.0",
            "grid_template_areas": null,
            "object_position": null,
            "object_fit": null,
            "grid_auto_columns": null,
            "margin": null,
            "display": null,
            "left": null
          }
        }
      }
    }
  },
  "cells": [
    {
      "cell_type": "markdown",
      "metadata": {
        "id": "TRh1iBPxnTAq"
      },
      "source": [
        "This notebook uses pretrained model -  \r\n",
        "*   [TFDistilBertForSequenceClassification](https://huggingface.co/transformers/model_doc/distilbert.html#tfdistilbertforsequenceclassification)\r\n",
        "\r\n",
        "and the dataset - \r\n",
        "*   [Laurence Moroney - Sarcasm dataset](https://storage.googleapis.com/laurencemoroney-blog.appspot.com/sarcasm.json)\r\n",
        "\r\n"
      ]
    },
    {
      "cell_type": "code",
      "metadata": {
        "colab": {
          "base_uri": "https://localhost:8080/"
        },
        "id": "ooOf2IFPnpR-",
        "outputId": "59b42e85-4f36-4c54-c305-c19dd372220e"
      },
      "source": [
        "!pip install transformers"
      ],
      "execution_count": 1,
      "outputs": [
        {
          "output_type": "stream",
          "text": [
            "Collecting transformers\n",
            "\u001b[?25l  Downloading https://files.pythonhosted.org/packages/cd/40/866cbfac4601e0f74c7303d533a9c5d4a53858bd402e08e3e294dd271f25/transformers-4.2.1-py3-none-any.whl (1.8MB)\n",
            "\r\u001b[K     |▏                               | 10kB 22.7MB/s eta 0:00:01\r\u001b[K     |▍                               | 20kB 30.0MB/s eta 0:00:01\r\u001b[K     |▋                               | 30kB 35.2MB/s eta 0:00:01\r\u001b[K     |▊                               | 40kB 32.2MB/s eta 0:00:01\r\u001b[K     |█                               | 51kB 33.9MB/s eta 0:00:01\r\u001b[K     |█▏                              | 61kB 36.0MB/s eta 0:00:01\r\u001b[K     |█▎                              | 71kB 25.7MB/s eta 0:00:01\r\u001b[K     |█▌                              | 81kB 23.0MB/s eta 0:00:01\r\u001b[K     |█▊                              | 92kB 24.3MB/s eta 0:00:01\r\u001b[K     |█▉                              | 102kB 22.1MB/s eta 0:00:01\r\u001b[K     |██                              | 112kB 22.1MB/s eta 0:00:01\r\u001b[K     |██▎                             | 122kB 22.1MB/s eta 0:00:01\r\u001b[K     |██▍                             | 133kB 22.1MB/s eta 0:00:01\r\u001b[K     |██▋                             | 143kB 22.1MB/s eta 0:00:01\r\u001b[K     |██▉                             | 153kB 22.1MB/s eta 0:00:01\r\u001b[K     |███                             | 163kB 22.1MB/s eta 0:00:01\r\u001b[K     |███▏                            | 174kB 22.1MB/s eta 0:00:01\r\u001b[K     |███▍                            | 184kB 22.1MB/s eta 0:00:01\r\u001b[K     |███▌                            | 194kB 22.1MB/s eta 0:00:01\r\u001b[K     |███▊                            | 204kB 22.1MB/s eta 0:00:01\r\u001b[K     |████                            | 215kB 22.1MB/s eta 0:00:01\r\u001b[K     |████                            | 225kB 22.1MB/s eta 0:00:01\r\u001b[K     |████▎                           | 235kB 22.1MB/s eta 0:00:01\r\u001b[K     |████▌                           | 245kB 22.1MB/s eta 0:00:01\r\u001b[K     |████▋                           | 256kB 22.1MB/s eta 0:00:01\r\u001b[K     |████▉                           | 266kB 22.1MB/s eta 0:00:01\r\u001b[K     |█████                           | 276kB 22.1MB/s eta 0:00:01\r\u001b[K     |█████▏                          | 286kB 22.1MB/s eta 0:00:01\r\u001b[K     |█████▍                          | 296kB 22.1MB/s eta 0:00:01\r\u001b[K     |█████▋                          | 307kB 22.1MB/s eta 0:00:01\r\u001b[K     |█████▊                          | 317kB 22.1MB/s eta 0:00:01\r\u001b[K     |██████                          | 327kB 22.1MB/s eta 0:00:01\r\u001b[K     |██████▏                         | 337kB 22.1MB/s eta 0:00:01\r\u001b[K     |██████▎                         | 348kB 22.1MB/s eta 0:00:01\r\u001b[K     |██████▌                         | 358kB 22.1MB/s eta 0:00:01\r\u001b[K     |██████▊                         | 368kB 22.1MB/s eta 0:00:01\r\u001b[K     |██████▉                         | 378kB 22.1MB/s eta 0:00:01\r\u001b[K     |███████                         | 389kB 22.1MB/s eta 0:00:01\r\u001b[K     |███████▎                        | 399kB 22.1MB/s eta 0:00:01\r\u001b[K     |███████▍                        | 409kB 22.1MB/s eta 0:00:01\r\u001b[K     |███████▋                        | 419kB 22.1MB/s eta 0:00:01\r\u001b[K     |███████▉                        | 430kB 22.1MB/s eta 0:00:01\r\u001b[K     |████████                        | 440kB 22.1MB/s eta 0:00:01\r\u001b[K     |████████▏                       | 450kB 22.1MB/s eta 0:00:01\r\u001b[K     |████████▍                       | 460kB 22.1MB/s eta 0:00:01\r\u001b[K     |████████▌                       | 471kB 22.1MB/s eta 0:00:01\r\u001b[K     |████████▊                       | 481kB 22.1MB/s eta 0:00:01\r\u001b[K     |█████████                       | 491kB 22.1MB/s eta 0:00:01\r\u001b[K     |█████████                       | 501kB 22.1MB/s eta 0:00:01\r\u001b[K     |█████████▎                      | 512kB 22.1MB/s eta 0:00:01\r\u001b[K     |█████████▌                      | 522kB 22.1MB/s eta 0:00:01\r\u001b[K     |█████████▋                      | 532kB 22.1MB/s eta 0:00:01\r\u001b[K     |█████████▉                      | 542kB 22.1MB/s eta 0:00:01\r\u001b[K     |██████████                      | 552kB 22.1MB/s eta 0:00:01\r\u001b[K     |██████████▏                     | 563kB 22.1MB/s eta 0:00:01\r\u001b[K     |██████████▍                     | 573kB 22.1MB/s eta 0:00:01\r\u001b[K     |██████████▋                     | 583kB 22.1MB/s eta 0:00:01\r\u001b[K     |██████████▊                     | 593kB 22.1MB/s eta 0:00:01\r\u001b[K     |███████████                     | 604kB 22.1MB/s eta 0:00:01\r\u001b[K     |███████████▏                    | 614kB 22.1MB/s eta 0:00:01\r\u001b[K     |███████████▎                    | 624kB 22.1MB/s eta 0:00:01\r\u001b[K     |███████████▌                    | 634kB 22.1MB/s eta 0:00:01\r\u001b[K     |███████████▊                    | 645kB 22.1MB/s eta 0:00:01\r\u001b[K     |███████████▉                    | 655kB 22.1MB/s eta 0:00:01\r\u001b[K     |████████████                    | 665kB 22.1MB/s eta 0:00:01\r\u001b[K     |████████████▎                   | 675kB 22.1MB/s eta 0:00:01\r\u001b[K     |████████████▍                   | 686kB 22.1MB/s eta 0:00:01\r\u001b[K     |████████████▋                   | 696kB 22.1MB/s eta 0:00:01\r\u001b[K     |████████████▉                   | 706kB 22.1MB/s eta 0:00:01\r\u001b[K     |█████████████                   | 716kB 22.1MB/s eta 0:00:01\r\u001b[K     |█████████████▏                  | 727kB 22.1MB/s eta 0:00:01\r\u001b[K     |█████████████▍                  | 737kB 22.1MB/s eta 0:00:01\r\u001b[K     |█████████████▌                  | 747kB 22.1MB/s eta 0:00:01\r\u001b[K     |█████████████▊                  | 757kB 22.1MB/s eta 0:00:01\r\u001b[K     |██████████████                  | 768kB 22.1MB/s eta 0:00:01\r\u001b[K     |██████████████                  | 778kB 22.1MB/s eta 0:00:01\r\u001b[K     |██████████████▎                 | 788kB 22.1MB/s eta 0:00:01\r\u001b[K     |██████████████▌                 | 798kB 22.1MB/s eta 0:00:01\r\u001b[K     |██████████████▋                 | 808kB 22.1MB/s eta 0:00:01\r\u001b[K     |██████████████▉                 | 819kB 22.1MB/s eta 0:00:01\r\u001b[K     |███████████████                 | 829kB 22.1MB/s eta 0:00:01\r\u001b[K     |███████████████▏                | 839kB 22.1MB/s eta 0:00:01\r\u001b[K     |███████████████▍                | 849kB 22.1MB/s eta 0:00:01\r\u001b[K     |███████████████▋                | 860kB 22.1MB/s eta 0:00:01\r\u001b[K     |███████████████▊                | 870kB 22.1MB/s eta 0:00:01\r\u001b[K     |████████████████                | 880kB 22.1MB/s eta 0:00:01\r\u001b[K     |████████████████▏               | 890kB 22.1MB/s eta 0:00:01\r\u001b[K     |████████████████▎               | 901kB 22.1MB/s eta 0:00:01\r\u001b[K     |████████████████▌               | 911kB 22.1MB/s eta 0:00:01\r\u001b[K     |████████████████▊               | 921kB 22.1MB/s eta 0:00:01\r\u001b[K     |████████████████▉               | 931kB 22.1MB/s eta 0:00:01\r\u001b[K     |█████████████████               | 942kB 22.1MB/s eta 0:00:01\r\u001b[K     |█████████████████▎              | 952kB 22.1MB/s eta 0:00:01\r\u001b[K     |█████████████████▍              | 962kB 22.1MB/s eta 0:00:01\r\u001b[K     |█████████████████▋              | 972kB 22.1MB/s eta 0:00:01\r\u001b[K     |█████████████████▉              | 983kB 22.1MB/s eta 0:00:01\r\u001b[K     |██████████████████              | 993kB 22.1MB/s eta 0:00:01\r\u001b[K     |██████████████████▏             | 1.0MB 22.1MB/s eta 0:00:01\r\u001b[K     |██████████████████▍             | 1.0MB 22.1MB/s eta 0:00:01\r\u001b[K     |██████████████████▌             | 1.0MB 22.1MB/s eta 0:00:01\r\u001b[K     |██████████████████▊             | 1.0MB 22.1MB/s eta 0:00:01\r\u001b[K     |███████████████████             | 1.0MB 22.1MB/s eta 0:00:01\r\u001b[K     |███████████████████             | 1.1MB 22.1MB/s eta 0:00:01\r\u001b[K     |███████████████████▎            | 1.1MB 22.1MB/s eta 0:00:01\r\u001b[K     |███████████████████▌            | 1.1MB 22.1MB/s eta 0:00:01\r\u001b[K     |███████████████████▋            | 1.1MB 22.1MB/s eta 0:00:01\r\u001b[K     |███████████████████▉            | 1.1MB 22.1MB/s eta 0:00:01\r\u001b[K     |████████████████████            | 1.1MB 22.1MB/s eta 0:00:01\r\u001b[K     |████████████████████▏           | 1.1MB 22.1MB/s eta 0:00:01\r\u001b[K     |████████████████████▍           | 1.1MB 22.1MB/s eta 0:00:01\r\u001b[K     |████████████████████▋           | 1.1MB 22.1MB/s eta 0:00:01\r\u001b[K     |████████████████████▊           | 1.1MB 22.1MB/s eta 0:00:01\r\u001b[K     |█████████████████████           | 1.2MB 22.1MB/s eta 0:00:01\r\u001b[K     |█████████████████████▏          | 1.2MB 22.1MB/s eta 0:00:01\r\u001b[K     |█████████████████████▎          | 1.2MB 22.1MB/s eta 0:00:01\r\u001b[K     |█████████████████████▌          | 1.2MB 22.1MB/s eta 0:00:01\r\u001b[K     |█████████████████████▊          | 1.2MB 22.1MB/s eta 0:00:01\r\u001b[K     |█████████████████████▉          | 1.2MB 22.1MB/s eta 0:00:01\r\u001b[K     |██████████████████████          | 1.2MB 22.1MB/s eta 0:00:01\r\u001b[K     |██████████████████████▎         | 1.2MB 22.1MB/s eta 0:00:01\r\u001b[K     |██████████████████████▍         | 1.2MB 22.1MB/s eta 0:00:01\r\u001b[K     |██████████████████████▋         | 1.2MB 22.1MB/s eta 0:00:01\r\u001b[K     |██████████████████████▉         | 1.3MB 22.1MB/s eta 0:00:01\r\u001b[K     |███████████████████████         | 1.3MB 22.1MB/s eta 0:00:01\r\u001b[K     |███████████████████████▏        | 1.3MB 22.1MB/s eta 0:00:01\r\u001b[K     |███████████████████████▍        | 1.3MB 22.1MB/s eta 0:00:01\r\u001b[K     |███████████████████████▋        | 1.3MB 22.1MB/s eta 0:00:01\r\u001b[K     |███████████████████████▊        | 1.3MB 22.1MB/s eta 0:00:01\r\u001b[K     |████████████████████████        | 1.3MB 22.1MB/s eta 0:00:01\r\u001b[K     |████████████████████████▏       | 1.3MB 22.1MB/s eta 0:00:01\r\u001b[K     |████████████████████████▎       | 1.3MB 22.1MB/s eta 0:00:01\r\u001b[K     |████████████████████████▌       | 1.4MB 22.1MB/s eta 0:00:01\r\u001b[K     |████████████████████████▊       | 1.4MB 22.1MB/s eta 0:00:01\r\u001b[K     |████████████████████████▉       | 1.4MB 22.1MB/s eta 0:00:01\r\u001b[K     |█████████████████████████       | 1.4MB 22.1MB/s eta 0:00:01\r\u001b[K     |█████████████████████████▎      | 1.4MB 22.1MB/s eta 0:00:01\r\u001b[K     |█████████████████████████▍      | 1.4MB 22.1MB/s eta 0:00:01\r\u001b[K     |█████████████████████████▋      | 1.4MB 22.1MB/s eta 0:00:01\r\u001b[K     |█████████████████████████▉      | 1.4MB 22.1MB/s eta 0:00:01\r\u001b[K     |██████████████████████████      | 1.4MB 22.1MB/s eta 0:00:01\r\u001b[K     |██████████████████████████▏     | 1.4MB 22.1MB/s eta 0:00:01\r\u001b[K     |██████████████████████████▍     | 1.5MB 22.1MB/s eta 0:00:01\r\u001b[K     |██████████████████████████▌     | 1.5MB 22.1MB/s eta 0:00:01\r\u001b[K     |██████████████████████████▊     | 1.5MB 22.1MB/s eta 0:00:01\r\u001b[K     |███████████████████████████     | 1.5MB 22.1MB/s eta 0:00:01\r\u001b[K     |███████████████████████████     | 1.5MB 22.1MB/s eta 0:00:01\r\u001b[K     |███████████████████████████▎    | 1.5MB 22.1MB/s eta 0:00:01\r\u001b[K     |███████████████████████████▌    | 1.5MB 22.1MB/s eta 0:00:01\r\u001b[K     |███████████████████████████▋    | 1.5MB 22.1MB/s eta 0:00:01\r\u001b[K     |███████████████████████████▉    | 1.5MB 22.1MB/s eta 0:00:01\r\u001b[K     |████████████████████████████    | 1.5MB 22.1MB/s eta 0:00:01\r\u001b[K     |████████████████████████████▏   | 1.6MB 22.1MB/s eta 0:00:01\r\u001b[K     |████████████████████████████▍   | 1.6MB 22.1MB/s eta 0:00:01\r\u001b[K     |████████████████████████████▋   | 1.6MB 22.1MB/s eta 0:00:01\r\u001b[K     |████████████████████████████▊   | 1.6MB 22.1MB/s eta 0:00:01\r\u001b[K     |█████████████████████████████   | 1.6MB 22.1MB/s eta 0:00:01\r\u001b[K     |█████████████████████████████▏  | 1.6MB 22.1MB/s eta 0:00:01\r\u001b[K     |█████████████████████████████▎  | 1.6MB 22.1MB/s eta 0:00:01\r\u001b[K     |█████████████████████████████▌  | 1.6MB 22.1MB/s eta 0:00:01\r\u001b[K     |█████████████████████████████▊  | 1.6MB 22.1MB/s eta 0:00:01\r\u001b[K     |█████████████████████████████▉  | 1.6MB 22.1MB/s eta 0:00:01\r\u001b[K     |██████████████████████████████  | 1.7MB 22.1MB/s eta 0:00:01\r\u001b[K     |██████████████████████████████▎ | 1.7MB 22.1MB/s eta 0:00:01\r\u001b[K     |██████████████████████████████▍ | 1.7MB 22.1MB/s eta 0:00:01\r\u001b[K     |██████████████████████████████▋ | 1.7MB 22.1MB/s eta 0:00:01\r\u001b[K     |██████████████████████████████▉ | 1.7MB 22.1MB/s eta 0:00:01\r\u001b[K     |███████████████████████████████ | 1.7MB 22.1MB/s eta 0:00:01\r\u001b[K     |███████████████████████████████▏| 1.7MB 22.1MB/s eta 0:00:01\r\u001b[K     |███████████████████████████████▍| 1.7MB 22.1MB/s eta 0:00:01\r\u001b[K     |███████████████████████████████▌| 1.7MB 22.1MB/s eta 0:00:01\r\u001b[K     |███████████████████████████████▊| 1.8MB 22.1MB/s eta 0:00:01\r\u001b[K     |████████████████████████████████| 1.8MB 22.1MB/s eta 0:00:01\r\u001b[K     |████████████████████████████████| 1.8MB 22.1MB/s \n",
            "\u001b[?25hRequirement already satisfied: filelock in /usr/local/lib/python3.6/dist-packages (from transformers) (3.0.12)\n",
            "Collecting tokenizers==0.9.4\n",
            "\u001b[?25l  Downloading https://files.pythonhosted.org/packages/0f/1c/e789a8b12e28be5bc1ce2156cf87cb522b379be9cadc7ad8091a4cc107c4/tokenizers-0.9.4-cp36-cp36m-manylinux2010_x86_64.whl (2.9MB)\n",
            "\u001b[K     |████████████████████████████████| 2.9MB 54.7MB/s \n",
            "\u001b[?25hRequirement already satisfied: numpy in /usr/local/lib/python3.6/dist-packages (from transformers) (1.19.5)\n",
            "Requirement already satisfied: importlib-metadata; python_version < \"3.8\" in /usr/local/lib/python3.6/dist-packages (from transformers) (3.3.0)\n",
            "Requirement already satisfied: regex!=2019.12.17 in /usr/local/lib/python3.6/dist-packages (from transformers) (2019.12.20)\n",
            "Collecting sacremoses\n",
            "\u001b[?25l  Downloading https://files.pythonhosted.org/packages/7d/34/09d19aff26edcc8eb2a01bed8e98f13a1537005d31e95233fd48216eed10/sacremoses-0.0.43.tar.gz (883kB)\n",
            "\u001b[K     |████████████████████████████████| 890kB 52.9MB/s \n",
            "\u001b[?25hRequirement already satisfied: tqdm>=4.27 in /usr/local/lib/python3.6/dist-packages (from transformers) (4.41.1)\n",
            "Requirement already satisfied: packaging in /usr/local/lib/python3.6/dist-packages (from transformers) (20.8)\n",
            "Requirement already satisfied: requests in /usr/local/lib/python3.6/dist-packages (from transformers) (2.23.0)\n",
            "Requirement already satisfied: dataclasses; python_version < \"3.7\" in /usr/local/lib/python3.6/dist-packages (from transformers) (0.8)\n",
            "Requirement already satisfied: typing-extensions>=3.6.4; python_version < \"3.8\" in /usr/local/lib/python3.6/dist-packages (from importlib-metadata; python_version < \"3.8\"->transformers) (3.7.4.3)\n",
            "Requirement already satisfied: zipp>=0.5 in /usr/local/lib/python3.6/dist-packages (from importlib-metadata; python_version < \"3.8\"->transformers) (3.4.0)\n",
            "Requirement already satisfied: six in /usr/local/lib/python3.6/dist-packages (from sacremoses->transformers) (1.15.0)\n",
            "Requirement already satisfied: click in /usr/local/lib/python3.6/dist-packages (from sacremoses->transformers) (7.1.2)\n",
            "Requirement already satisfied: joblib in /usr/local/lib/python3.6/dist-packages (from sacremoses->transformers) (1.0.0)\n",
            "Requirement already satisfied: pyparsing>=2.0.2 in /usr/local/lib/python3.6/dist-packages (from packaging->transformers) (2.4.7)\n",
            "Requirement already satisfied: idna<3,>=2.5 in /usr/local/lib/python3.6/dist-packages (from requests->transformers) (2.10)\n",
            "Requirement already satisfied: chardet<4,>=3.0.2 in /usr/local/lib/python3.6/dist-packages (from requests->transformers) (3.0.4)\n",
            "Requirement already satisfied: certifi>=2017.4.17 in /usr/local/lib/python3.6/dist-packages (from requests->transformers) (2020.12.5)\n",
            "Requirement already satisfied: urllib3!=1.25.0,!=1.25.1,<1.26,>=1.21.1 in /usr/local/lib/python3.6/dist-packages (from requests->transformers) (1.24.3)\n",
            "Building wheels for collected packages: sacremoses\n",
            "  Building wheel for sacremoses (setup.py) ... \u001b[?25l\u001b[?25hdone\n",
            "  Created wheel for sacremoses: filename=sacremoses-0.0.43-cp36-none-any.whl size=893261 sha256=46a47928d188d60b57afe148baf4c752a279b4b573e236defc4d7ecea88010d6\n",
            "  Stored in directory: /root/.cache/pip/wheels/29/3c/fd/7ce5c3f0666dab31a50123635e6fb5e19ceb42ce38d4e58f45\n",
            "Successfully built sacremoses\n",
            "Installing collected packages: tokenizers, sacremoses, transformers\n",
            "Successfully installed sacremoses-0.0.43 tokenizers-0.9.4 transformers-4.2.1\n"
          ],
          "name": "stdout"
        }
      ]
    },
    {
      "cell_type": "code",
      "metadata": {
        "id": "tefhy4WGocWa"
      },
      "source": [
        "from transformers import DistilBertTokenizerFast\r\n",
        "from transformers import TFDistilBertForSequenceClassification"
      ],
      "execution_count": 2,
      "outputs": []
    },
    {
      "cell_type": "code",
      "metadata": {
        "id": "eRcJ70vLogQs"
      },
      "source": [
        "import tensorflow as tf"
      ],
      "execution_count": 3,
      "outputs": []
    },
    {
      "cell_type": "code",
      "metadata": {
        "id": "nwiR4c7dpl4-"
      },
      "source": [
        "import json"
      ],
      "execution_count": 10,
      "outputs": []
    },
    {
      "cell_type": "markdown",
      "metadata": {
        "id": "pqV_AHovoj_1"
      },
      "source": [
        "Data preparation"
      ]
    },
    {
      "cell_type": "code",
      "metadata": {
        "colab": {
          "base_uri": "https://localhost:8080/"
        },
        "id": "W31oThknoh5D",
        "outputId": "9f89e594-c33a-4b12-e568-23e5edb223bd"
      },
      "source": [
        "cd /content/drive/MyDrive/HuggingFace_Pretrained_FineTuning/Laurence_Moroney"
      ],
      "execution_count": 4,
      "outputs": [
        {
          "output_type": "stream",
          "text": [
            "/content/drive/MyDrive/HuggingFace_Pretrained_FineTuning/Laurence_Moroney\n"
          ],
          "name": "stdout"
        }
      ]
    },
    {
      "cell_type": "code",
      "metadata": {
        "colab": {
          "base_uri": "https://localhost:8080/"
        },
        "id": "KozruPUko6Vg",
        "outputId": "656f3ab4-0fcb-47f2-eea1-ae2c05df1d45"
      },
      "source": [
        "!wget --no-check-certificate \\\r\n",
        "    https://storage.googleapis.com/laurencemoroney-blog.appspot.com/sarcasm.json \\\r\n",
        "    -O /content/drive/MyDrive/HuggingFace_Pretrained_FineTuning/Laurence_Moroney/sarcasm.json"
      ],
      "execution_count": 6,
      "outputs": [
        {
          "output_type": "stream",
          "text": [
            "--2021-01-16 05:21:37--  https://storage.googleapis.com/laurencemoroney-blog.appspot.com/sarcasm.json\n",
            "Resolving storage.googleapis.com (storage.googleapis.com)... 172.217.9.208, 142.250.31.128, 172.217.15.80, ...\n",
            "Connecting to storage.googleapis.com (storage.googleapis.com)|172.217.9.208|:443... connected.\n",
            "HTTP request sent, awaiting response... 200 OK\n",
            "Length: 5643545 (5.4M) [application/json]\n",
            "Saving to: ‘/content/drive/MyDrive/HuggingFace_Pretrained_FineTuning/Laurence_Moroney/sarcasm.json’\n",
            "\n",
            "\r          /content/   0%[                    ]       0  --.-KB/s               \r/content/drive/MyDr 100%[===================>]   5.38M  --.-KB/s    in 0.1s    \n",
            "\n",
            "2021-01-16 05:21:38 (47.3 MB/s) - ‘/content/drive/MyDrive/HuggingFace_Pretrained_FineTuning/Laurence_Moroney/sarcasm.json’ saved [5643545/5643545]\n",
            "\n"
          ],
          "name": "stdout"
        }
      ]
    },
    {
      "cell_type": "code",
      "metadata": {
        "id": "xD6bEI6Oo-Dx"
      },
      "source": [
        "training_size = 20000"
      ],
      "execution_count": 7,
      "outputs": []
    },
    {
      "cell_type": "code",
      "metadata": {
        "id": "Ho2eWSFTpQle"
      },
      "source": [
        "dataFilePath = '/content/drive/MyDrive/HuggingFace_Pretrained_FineTuning/Laurence_Moroney/sarcasm.json'"
      ],
      "execution_count": 8,
      "outputs": []
    },
    {
      "cell_type": "code",
      "metadata": {
        "id": "eeC3Q-6MpMKn"
      },
      "source": [
        "with open(dataFilePath, 'r') as f:\r\n",
        "    datastore = json.load(f)"
      ],
      "execution_count": 11,
      "outputs": []
    },
    {
      "cell_type": "code",
      "metadata": {
        "id": "B78qw0BGpU7r"
      },
      "source": [
        "sentences = []\r\n",
        "labels = []\r\n",
        "urls = []\r\n",
        "for item in datastore:\r\n",
        "    sentences.append(item['headline'])\r\n",
        "    labels.append(item['is_sarcastic']) "
      ],
      "execution_count": 14,
      "outputs": []
    },
    {
      "cell_type": "code",
      "metadata": {
        "colab": {
          "base_uri": "https://localhost:8080/"
        },
        "id": "kiOn_8ltp31C",
        "outputId": "fb7d2da9-23a9-43ea-a25b-07de79505653"
      },
      "source": [
        "print('Example Sentence : ', sentences[0])\r\n",
        "print('Example Label : ', labels[0])"
      ],
      "execution_count": 15,
      "outputs": [
        {
          "output_type": "stream",
          "text": [
            "Example Sentence :  former versace store clerk sues over secret 'black code' for minority shoppers\n",
            "Example Label :  0\n"
          ],
          "name": "stdout"
        }
      ]
    },
    {
      "cell_type": "code",
      "metadata": {
        "id": "m3VnPI70qCY9"
      },
      "source": [
        "training_sentences = sentences[0:training_size]\r\n",
        "validation_sentences = sentences[training_size:]\r\n",
        "training_labels = labels[0:training_size]\r\n",
        "validation_labels = labels[training_size:]"
      ],
      "execution_count": 16,
      "outputs": []
    },
    {
      "cell_type": "code",
      "metadata": {
        "colab": {
          "base_uri": "https://localhost:8080/"
        },
        "id": "fGO2bNd8qH9f",
        "outputId": "c0610be6-2ffa-456b-b16f-a8b59c6ad34d"
      },
      "source": [
        "print('Total Training Data : ', len(training_sentences))\r\n",
        "print('Total Validation Data : ', len(validation_labels))"
      ],
      "execution_count": 18,
      "outputs": [
        {
          "output_type": "stream",
          "text": [
            "Total Training Data :  20000\n",
            "Total Validation Data :  6709\n"
          ],
          "name": "stdout"
        }
      ]
    },
    {
      "cell_type": "markdown",
      "metadata": {
        "id": "qwcms0fwqrSS"
      },
      "source": [
        "BERT Set up and Training"
      ]
    },
    {
      "cell_type": "code",
      "metadata": {
        "colab": {
          "base_uri": "https://localhost:8080/",
          "height": 117,
          "referenced_widgets": [
            "45ad51d620fc484f9357faf1ceabaaec",
            "94430dd797fe46d698d93799e8bbd5b6",
            "5418f1ad444a4c438f693219e4a274a0",
            "d62f7eabb0bc4ed19f6678c5e4fc8f6a",
            "781239ff0f3c40749521d2575afa1558",
            "1d2241ef6ffe4a429baa0d74b7635b28",
            "d0da77928d2f4133994b8102e631d115",
            "b1124062b9134c39a31c878c5ea1b1dd",
            "b50887c274dd490db309eb0267033324",
            "bb612297ffa44927b4f881e39da4b971",
            "e5cd0674986b4a47bb51b5d347f949a6",
            "aa1aadb652cf42a1a62cfc4b448d5550",
            "29591ea3c5f945b889e45d2af02260d6",
            "9bb9fd7ea2f647108273b9a55bbd90a6",
            "137f78448b5e4b14b9c8719d88e1b038",
            "a707b5762e384ca8a5b1b83dcb9b9489"
          ]
        },
        "id": "zTHenJ5kqjd_",
        "outputId": "b3746c01-cc85-4adb-aa6b-67044b0bed6b"
      },
      "source": [
        "tokenizer = DistilBertTokenizerFast.from_pretrained('distilbert-base-uncased')"
      ],
      "execution_count": 19,
      "outputs": [
        {
          "output_type": "display_data",
          "data": {
            "application/vnd.jupyter.widget-view+json": {
              "model_id": "45ad51d620fc484f9357faf1ceabaaec",
              "version_minor": 0,
              "version_major": 2
            },
            "text/plain": [
              "HBox(children=(FloatProgress(value=0.0, description='Downloading', max=231508.0, style=ProgressStyle(descripti…"
            ]
          },
          "metadata": {
            "tags": []
          }
        },
        {
          "output_type": "stream",
          "text": [
            "\n"
          ],
          "name": "stdout"
        },
        {
          "output_type": "display_data",
          "data": {
            "application/vnd.jupyter.widget-view+json": {
              "model_id": "b50887c274dd490db309eb0267033324",
              "version_minor": 0,
              "version_major": 2
            },
            "text/plain": [
              "HBox(children=(FloatProgress(value=0.0, description='Downloading', max=466062.0, style=ProgressStyle(descripti…"
            ]
          },
          "metadata": {
            "tags": []
          }
        },
        {
          "output_type": "stream",
          "text": [
            "\n"
          ],
          "name": "stdout"
        }
      ]
    },
    {
      "cell_type": "markdown",
      "metadata": {
        "id": "NPm_KwAaq0TZ"
      },
      "source": [
        "Tokenization"
      ]
    },
    {
      "cell_type": "code",
      "metadata": {
        "id": "ABhB5PRpqwgB"
      },
      "source": [
        "train_encodings = tokenizer(training_sentences,\r\n",
        "                            truncation=True,\r\n",
        "                            padding=True)\r\n",
        "val_encodings = tokenizer(validation_sentences,\r\n",
        "                            truncation=True,\r\n",
        "                            padding=True)"
      ],
      "execution_count": 20,
      "outputs": []
    },
    {
      "cell_type": "code",
      "metadata": {
        "id": "zMnNg9E2q7od"
      },
      "source": [
        "train_dataset = tf.data.Dataset.from_tensor_slices((\r\n",
        "    dict(train_encodings),\r\n",
        "    training_labels\r\n",
        "))\r\n",
        "val_dataset = tf.data.Dataset.from_tensor_slices((\r\n",
        "    dict(val_encodings),\r\n",
        "    validation_labels\r\n",
        "))"
      ],
      "execution_count": 22,
      "outputs": []
    },
    {
      "cell_type": "markdown",
      "metadata": {
        "id": "TvERjpqQtjmF"
      },
      "source": [
        "Fetch Pre-Trained model from HuggingFace. In this case we're using [distilbert-base-uncased](https://huggingface.co/distilbert-base-uncased)"
      ]
    },
    {
      "cell_type": "code",
      "metadata": {
        "colab": {
          "base_uri": "https://localhost:8080/",
          "height": 228,
          "referenced_widgets": [
            "7dc3c1126c14455896bda4f9e4f8b6b8",
            "a7fb038f7777459aa273e071f23303eb",
            "2e3954c7ffd2474c903495fc4bc5b23f",
            "ed9649373c0246958b292afa5c729617",
            "6d56c64350d64c82921a172c08ca996c",
            "2ebbadbc16774718bc5c2f85e802cb9a",
            "a9f43644a0734aa08bac9e270dd2e6ee",
            "0f765e3c4f004357a79ea82e9b625193",
            "cef9e897b43f4ea0bcc023c8c7a454f7",
            "f83579906f9943d5a5f8bf0969b9c728",
            "b93f09fc854c424286904ff0b24c49f6",
            "16d405090d5843a9b725a16aa0964f5f",
            "f78e2b22713f4fa78d539274512231ee",
            "df8b780588684083b921761679d5163e",
            "534dc61f639e46eb92d7bebad1277f05",
            "4ec8e70dca7049dc984fb97fca590e42"
          ]
        },
        "id": "Bsjb6LHptV50",
        "outputId": "15011c76-5032-4257-c91a-37efab99e0ef"
      },
      "source": [
        "model = TFDistilBertForSequenceClassification.from_pretrained('distilbert-base-uncased', num_labels=2)\r\n",
        "#Here, num_labels represents the number of labels in the dataset."
      ],
      "execution_count": 27,
      "outputs": [
        {
          "output_type": "display_data",
          "data": {
            "application/vnd.jupyter.widget-view+json": {
              "model_id": "7dc3c1126c14455896bda4f9e4f8b6b8",
              "version_minor": 0,
              "version_major": 2
            },
            "text/plain": [
              "HBox(children=(FloatProgress(value=0.0, description='Downloading', max=442.0, style=ProgressStyle(description_…"
            ]
          },
          "metadata": {
            "tags": []
          }
        },
        {
          "output_type": "stream",
          "text": [
            "\n"
          ],
          "name": "stdout"
        },
        {
          "output_type": "display_data",
          "data": {
            "application/vnd.jupyter.widget-view+json": {
              "model_id": "cef9e897b43f4ea0bcc023c8c7a454f7",
              "version_minor": 0,
              "version_major": 2
            },
            "text/plain": [
              "HBox(children=(FloatProgress(value=0.0, description='Downloading', max=363423424.0, style=ProgressStyle(descri…"
            ]
          },
          "metadata": {
            "tags": []
          }
        },
        {
          "output_type": "stream",
          "text": [
            "\n"
          ],
          "name": "stdout"
        },
        {
          "output_type": "stream",
          "text": [
            "Some layers from the model checkpoint at distilbert-base-uncased were not used when initializing TFDistilBertForSequenceClassification: ['vocab_layer_norm', 'vocab_transform', 'vocab_projector', 'activation_13']\n",
            "- This IS expected if you are initializing TFDistilBertForSequenceClassification from the checkpoint of a model trained on another task or with another architecture (e.g. initializing a BertForSequenceClassification model from a BertForPreTraining model).\n",
            "- This IS NOT expected if you are initializing TFDistilBertForSequenceClassification from the checkpoint of a model that you expect to be exactly identical (initializing a BertForSequenceClassification model from a BertForSequenceClassification model).\n",
            "Some layers of TFDistilBertForSequenceClassification were not initialized from the model checkpoint at distilbert-base-uncased and are newly initialized: ['pre_classifier', 'dropout_19', 'classifier']\n",
            "You should probably TRAIN this model on a down-stream task to be able to use it for predictions and inference.\n"
          ],
          "name": "stderr"
        }
      ]
    },
    {
      "cell_type": "code",
      "metadata": {
        "colab": {
          "base_uri": "https://localhost:8080/"
        },
        "id": "SMkJUXWauAQr",
        "outputId": "64238d5f-540c-4b6a-9400-2404856ef6a1"
      },
      "source": [
        "optimizer = tf.keras.optimizers.Adam(learning_rate=5e-5)\r\n",
        "model.compile(optimizer=optimizer, loss=model.compute_loss, metrics=['accuracy'])\r\n",
        "model.fit(train_dataset.shuffle(100).batch(16),\r\n",
        "          epochs=3,\r\n",
        "          batch_size=16,\r\n",
        "          validation_data=val_dataset.shuffle(100).batch(16))"
      ],
      "execution_count": 28,
      "outputs": [
        {
          "output_type": "stream",
          "text": [
            "Epoch 1/3\n",
            "WARNING:tensorflow:AutoGraph could not transform <bound method Socket.send of <zmq.sugar.socket.Socket object at 0x7f69da3225f8>> and will run it as-is.\n",
            "Please report this to the TensorFlow team. When filing the bug, set the verbosity to 10 (on Linux, `export AUTOGRAPH_VERBOSITY=10`) and attach the full output.\n",
            "Cause: <cyfunction Socket.send at 0x7f69f7ccfd90> is not a module, class, method, function, traceback, frame, or code object\n",
            "To silence this warning, decorate the function with @tf.autograph.experimental.do_not_convert\n",
            "WARNING: AutoGraph could not transform <bound method Socket.send of <zmq.sugar.socket.Socket object at 0x7f69da3225f8>> and will run it as-is.\n",
            "Please report this to the TensorFlow team. When filing the bug, set the verbosity to 10 (on Linux, `export AUTOGRAPH_VERBOSITY=10`) and attach the full output.\n",
            "Cause: <cyfunction Socket.send at 0x7f69f7ccfd90> is not a module, class, method, function, traceback, frame, or code object\n",
            "To silence this warning, decorate the function with @tf.autograph.experimental.do_not_convert\n"
          ],
          "name": "stdout"
        },
        {
          "output_type": "stream",
          "text": [
            "The parameters `output_attentions`, `output_hidden_states` and `use_cache` cannot be updated when calling a model.They have to be set to True/False in the config object (i.e.: `config=XConfig.from_pretrained('name', output_attentions=True)`).\n"
          ],
          "name": "stderr"
        },
        {
          "output_type": "stream",
          "text": [
            "WARNING:tensorflow:AutoGraph could not transform <function wrap at 0x7f69f56618c8> and will run it as-is.\n",
            "Cause: while/else statement not yet supported\n",
            "To silence this warning, decorate the function with @tf.autograph.experimental.do_not_convert\n"
          ],
          "name": "stdout"
        },
        {
          "output_type": "stream",
          "text": [
            "The parameter `return_dict` cannot be set in graph mode and will always be set to `True`.\n"
          ],
          "name": "stderr"
        },
        {
          "output_type": "stream",
          "text": [
            "WARNING: AutoGraph could not transform <function wrap at 0x7f69f56618c8> and will run it as-is.\n",
            "Cause: while/else statement not yet supported\n",
            "To silence this warning, decorate the function with @tf.autograph.experimental.do_not_convert\n"
          ],
          "name": "stdout"
        },
        {
          "output_type": "stream",
          "text": [
            "The parameters `output_attentions`, `output_hidden_states` and `use_cache` cannot be updated when calling a model.They have to be set to True/False in the config object (i.e.: `config=XConfig.from_pretrained('name', output_attentions=True)`).\n",
            "The parameter `return_dict` cannot be set in graph mode and will always be set to `True`.\n"
          ],
          "name": "stderr"
        },
        {
          "output_type": "stream",
          "text": [
            "1250/1250 [==============================] - ETA: 0s - loss: 0.3397 - accuracy: 0.8436"
          ],
          "name": "stdout"
        },
        {
          "output_type": "stream",
          "text": [
            "The parameters `output_attentions`, `output_hidden_states` and `use_cache` cannot be updated when calling a model.They have to be set to True/False in the config object (i.e.: `config=XConfig.from_pretrained('name', output_attentions=True)`).\n",
            "The parameter `return_dict` cannot be set in graph mode and will always be set to `True`.\n"
          ],
          "name": "stderr"
        },
        {
          "output_type": "stream",
          "text": [
            "1250/1250 [==============================] - 201s 136ms/step - loss: 0.3396 - accuracy: 0.8437 - val_loss: 0.2084 - val_accuracy: 0.9128\n",
            "Epoch 2/3\n",
            "1250/1250 [==============================] - 170s 136ms/step - loss: 0.1160 - accuracy: 0.9574 - val_loss: 0.2712 - val_accuracy: 0.9115\n",
            "Epoch 3/3\n",
            "1250/1250 [==============================] - 170s 136ms/step - loss: 0.0460 - accuracy: 0.9856 - val_loss: 0.3175 - val_accuracy: 0.9197\n"
          ],
          "name": "stdout"
        },
        {
          "output_type": "execute_result",
          "data": {
            "text/plain": [
              "<tensorflow.python.keras.callbacks.History at 0x7f68b9bfb4a8>"
            ]
          },
          "metadata": {
            "tags": []
          },
          "execution_count": 28
        }
      ]
    },
    {
      "cell_type": "code",
      "metadata": {
        "id": "TVkS7ErUvnpz"
      },
      "source": [
        "model.save_pretrained(\"/content/drive/MyDrive/HuggingFace_Pretrained_FineTuning/Laurence_Moroney/sentiment_custom_model\")"
      ],
      "execution_count": 29,
      "outputs": []
    },
    {
      "cell_type": "markdown",
      "metadata": {
        "id": "WcLskhzMyY-q"
      },
      "source": [
        "Loading the saved model for prediction"
      ]
    },
    {
      "cell_type": "code",
      "metadata": {
        "id": "c_GefrCTyizW"
      },
      "source": [
        "modelPath = \"/content/drive/MyDrive/HuggingFace_Pretrained_FineTuning/Laurence_Moroney/sentiment_custom_model\""
      ],
      "execution_count": 31,
      "outputs": []
    },
    {
      "cell_type": "code",
      "metadata": {
        "colab": {
          "base_uri": "https://localhost:8080/"
        },
        "id": "1cWHFjPox-tQ",
        "outputId": "88d6a7d8-d377-4f58-8176-c2b90d930b64"
      },
      "source": [
        "loaded_model = TFDistilBertForSequenceClassification.from_pretrained(modelPath)"
      ],
      "execution_count": 32,
      "outputs": [
        {
          "output_type": "stream",
          "text": [
            "Some layers from the model checkpoint at /content/drive/MyDrive/HuggingFace_Pretrained_FineTuning/Laurence_Moroney/sentiment_custom_model were not used when initializing TFDistilBertForSequenceClassification: ['dropout_19']\n",
            "- This IS expected if you are initializing TFDistilBertForSequenceClassification from the checkpoint of a model trained on another task or with another architecture (e.g. initializing a BertForSequenceClassification model from a BertForPreTraining model).\n",
            "- This IS NOT expected if you are initializing TFDistilBertForSequenceClassification from the checkpoint of a model that you expect to be exactly identical (initializing a BertForSequenceClassification model from a BertForSequenceClassification model).\n",
            "Some layers of TFDistilBertForSequenceClassification were not initialized from the model checkpoint at /content/drive/MyDrive/HuggingFace_Pretrained_FineTuning/Laurence_Moroney/sentiment_custom_model and are newly initialized: ['dropout_59']\n",
            "You should probably TRAIN this model on a down-stream task to be able to use it for predictions and inference.\n"
          ],
          "name": "stderr"
        }
      ]
    },
    {
      "cell_type": "markdown",
      "metadata": {
        "id": "UkoNLwma1Iq5"
      },
      "source": [
        "Not Sarcasm prediction"
      ]
    },
    {
      "cell_type": "code",
      "metadata": {
        "id": "td6b7-ujyhIy"
      },
      "source": [
        "test_sentence_not_sarcasm = \"With their homes in ashes, residents share harrowing tales of survival after massive wildfires kill 15\""
      ],
      "execution_count": 40,
      "outputs": []
    },
    {
      "cell_type": "code",
      "metadata": {
        "id": "vR0IZkYtzUHB"
      },
      "source": [
        "predict_input_not_sarcasm = tokenizer.encode(test_sentence_not_sarcasm,\r\n",
        "                                 truncation=True, padding=True, return_tensors=\"tf\")"
      ],
      "execution_count": 34,
      "outputs": []
    },
    {
      "cell_type": "code",
      "metadata": {
        "id": "PcnAsR29zgfA"
      },
      "source": [
        "tf_output_not_sarcasm = loaded_model.predict(predict_input_not_sarcasm)[0]"
      ],
      "execution_count": 36,
      "outputs": []
    },
    {
      "cell_type": "code",
      "metadata": {
        "id": "YVTyL5kBzkB2"
      },
      "source": [
        "tf_prediction_not_sarcasm = tf.nn.softmax(tf_output_not_sarcasm, axis=1).numpy()[0]"
      ],
      "execution_count": 37,
      "outputs": []
    },
    {
      "cell_type": "code",
      "metadata": {
        "colab": {
          "base_uri": "https://localhost:8080/"
        },
        "id": "FlSSFeYi1BrQ",
        "outputId": "c6894a06-238f-4243-8dd2-97a2558ac5da"
      },
      "source": [
        "tf_prediction_not_sarcasm"
      ],
      "execution_count": 38,
      "outputs": [
        {
          "output_type": "execute_result",
          "data": {
            "text/plain": [
              "array([0.9971927 , 0.00280738], dtype=float32)"
            ]
          },
          "metadata": {
            "tags": []
          },
          "execution_count": 38
        }
      ]
    },
    {
      "cell_type": "code",
      "metadata": {
        "id": "tFD4gQCU1_vL"
      },
      "source": [
        "tf_prediction = tf.nn.softmax(tf_output_not_sarcasm, axis=1).numpy()[0]"
      ],
      "execution_count": 52,
      "outputs": []
    },
    {
      "cell_type": "code",
      "metadata": {
        "colab": {
          "base_uri": "https://localhost:8080/"
        },
        "id": "7CFPULEw2EaY",
        "outputId": "444ab396-9ccc-40e8-b869-550a0e9f7336"
      },
      "source": [
        "tf_prediction"
      ],
      "execution_count": 53,
      "outputs": [
        {
          "output_type": "execute_result",
          "data": {
            "text/plain": [
              "array([0.9971927 , 0.00280738], dtype=float32)"
            ]
          },
          "metadata": {
            "tags": []
          },
          "execution_count": 53
        }
      ]
    },
    {
      "cell_type": "markdown",
      "metadata": {
        "id": "kV9Ekq5Q1Lzu"
      },
      "source": [
        "Sarcasm Prediction"
      ]
    },
    {
      "cell_type": "code",
      "metadata": {
        "id": "tG6dVoZY1DKV"
      },
      "source": [
        "test_sentence_sarcasm = \"News anchor hits back at viewer who sent her snarky note about ‘not performing well’ during broadcast\""
      ],
      "execution_count": 41,
      "outputs": []
    },
    {
      "cell_type": "code",
      "metadata": {
        "id": "svc8sEzw1S3d"
      },
      "source": [
        "predict_input_sarcasm = tokenizer.encode(test_sentence_sarcasm,\r\n",
        "                                 truncation=True, padding=True, return_tensors=\"tf\")"
      ],
      "execution_count": 46,
      "outputs": []
    },
    {
      "cell_type": "code",
      "metadata": {
        "id": "cSO6EZKp1ZXM"
      },
      "source": [
        "tf_output_sarcasm = loaded_model.predict(predict_input_sarcasm)[0]"
      ],
      "execution_count": 47,
      "outputs": []
    },
    {
      "cell_type": "code",
      "metadata": {
        "id": "T3Gi1TPg1k-g"
      },
      "source": [
        "tf_prediction_sarcasm = tf.nn.softmax(tf_output_sarcasm, axis=1).numpy()[0]"
      ],
      "execution_count": 48,
      "outputs": []
    },
    {
      "cell_type": "code",
      "metadata": {
        "id": "uDc_vmgY1q3b"
      },
      "source": [
        "tf_prediction = tf.nn.softmax(tf_output_sarcasm, axis=1).numpy()[0]"
      ],
      "execution_count": 50,
      "outputs": []
    },
    {
      "cell_type": "code",
      "metadata": {
        "colab": {
          "base_uri": "https://localhost:8080/"
        },
        "id": "MU4SvbEn1zSV",
        "outputId": "0a3ad08f-dd1c-455f-d904-1838366c0f9e"
      },
      "source": [
        "tf_prediction"
      ],
      "execution_count": 51,
      "outputs": [
        {
          "output_type": "execute_result",
          "data": {
            "text/plain": [
              "array([9.1376796e-04, 9.9908626e-01], dtype=float32)"
            ]
          },
          "metadata": {
            "tags": []
          },
          "execution_count": 51
        }
      ]
    },
    {
      "cell_type": "code",
      "metadata": {
        "id": "dSub3quz16z4"
      },
      "source": [
        ""
      ],
      "execution_count": null,
      "outputs": []
    }
  ]
}