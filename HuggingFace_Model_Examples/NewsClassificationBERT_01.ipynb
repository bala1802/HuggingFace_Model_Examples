{
  "nbformat": 4,
  "nbformat_minor": 0,
  "metadata": {
    "colab": {
      "name": "NewsClassificationBERT_01.ipynb",
      "provenance": [],
      "collapsed_sections": []
    },
    "kernelspec": {
      "name": "python3",
      "display_name": "Python 3"
    },
    "accelerator": "GPU",
    "widgets": {
      "application/vnd.jupyter.widget-state+json": {
        "9f1dcada41694aa28122705f5f4b2baf": {
          "model_module": "@jupyter-widgets/controls",
          "model_name": "HBoxModel",
          "state": {
            "_view_name": "HBoxView",
            "_dom_classes": [],
            "_model_name": "HBoxModel",
            "_view_module": "@jupyter-widgets/controls",
            "_model_module_version": "1.5.0",
            "_view_count": null,
            "_view_module_version": "1.5.0",
            "box_style": "",
            "layout": "IPY_MODEL_e424529f40d9498b97de02058216095b",
            "_model_module": "@jupyter-widgets/controls",
            "children": [
              "IPY_MODEL_768b497f42a94ae3937957ff8e7e3f80",
              "IPY_MODEL_e04352318d554e598d6fbd469a9ad283"
            ]
          }
        },
        "e424529f40d9498b97de02058216095b": {
          "model_module": "@jupyter-widgets/base",
          "model_name": "LayoutModel",
          "state": {
            "_view_name": "LayoutView",
            "grid_template_rows": null,
            "right": null,
            "justify_content": null,
            "_view_module": "@jupyter-widgets/base",
            "overflow": null,
            "_model_module_version": "1.2.0",
            "_view_count": null,
            "flex_flow": null,
            "width": null,
            "min_width": null,
            "border": null,
            "align_items": null,
            "bottom": null,
            "_model_module": "@jupyter-widgets/base",
            "top": null,
            "grid_column": null,
            "overflow_y": null,
            "overflow_x": null,
            "grid_auto_flow": null,
            "grid_area": null,
            "grid_template_columns": null,
            "flex": null,
            "_model_name": "LayoutModel",
            "justify_items": null,
            "grid_row": null,
            "max_height": null,
            "align_content": null,
            "visibility": null,
            "align_self": null,
            "height": null,
            "min_height": null,
            "padding": null,
            "grid_auto_rows": null,
            "grid_gap": null,
            "max_width": null,
            "order": null,
            "_view_module_version": "1.2.0",
            "grid_template_areas": null,
            "object_position": null,
            "object_fit": null,
            "grid_auto_columns": null,
            "margin": null,
            "display": null,
            "left": null
          }
        },
        "768b497f42a94ae3937957ff8e7e3f80": {
          "model_module": "@jupyter-widgets/controls",
          "model_name": "FloatProgressModel",
          "state": {
            "_view_name": "ProgressView",
            "style": "IPY_MODEL_09685637f329475e8da3da5ea2ffebaa",
            "_dom_classes": [],
            "description": "Downloading: 100%",
            "_model_name": "FloatProgressModel",
            "bar_style": "success",
            "max": 231508,
            "_view_module": "@jupyter-widgets/controls",
            "_model_module_version": "1.5.0",
            "value": 231508,
            "_view_count": null,
            "_view_module_version": "1.5.0",
            "orientation": "horizontal",
            "min": 0,
            "description_tooltip": null,
            "_model_module": "@jupyter-widgets/controls",
            "layout": "IPY_MODEL_ddc55264fd264a20a6fda72be7b7828a"
          }
        },
        "e04352318d554e598d6fbd469a9ad283": {
          "model_module": "@jupyter-widgets/controls",
          "model_name": "HTMLModel",
          "state": {
            "_view_name": "HTMLView",
            "style": "IPY_MODEL_2b0e1ebc087d49fbbfc3b82c4f426620",
            "_dom_classes": [],
            "description": "",
            "_model_name": "HTMLModel",
            "placeholder": "​",
            "_view_module": "@jupyter-widgets/controls",
            "_model_module_version": "1.5.0",
            "value": " 232k/232k [00:00&lt;00:00, 300kB/s]",
            "_view_count": null,
            "_view_module_version": "1.5.0",
            "description_tooltip": null,
            "_model_module": "@jupyter-widgets/controls",
            "layout": "IPY_MODEL_e1aa32361a2a4448b84eb305c91008b8"
          }
        },
        "09685637f329475e8da3da5ea2ffebaa": {
          "model_module": "@jupyter-widgets/controls",
          "model_name": "ProgressStyleModel",
          "state": {
            "_view_name": "StyleView",
            "_model_name": "ProgressStyleModel",
            "description_width": "initial",
            "_view_module": "@jupyter-widgets/base",
            "_model_module_version": "1.5.0",
            "_view_count": null,
            "_view_module_version": "1.2.0",
            "bar_color": null,
            "_model_module": "@jupyter-widgets/controls"
          }
        },
        "ddc55264fd264a20a6fda72be7b7828a": {
          "model_module": "@jupyter-widgets/base",
          "model_name": "LayoutModel",
          "state": {
            "_view_name": "LayoutView",
            "grid_template_rows": null,
            "right": null,
            "justify_content": null,
            "_view_module": "@jupyter-widgets/base",
            "overflow": null,
            "_model_module_version": "1.2.0",
            "_view_count": null,
            "flex_flow": null,
            "width": null,
            "min_width": null,
            "border": null,
            "align_items": null,
            "bottom": null,
            "_model_module": "@jupyter-widgets/base",
            "top": null,
            "grid_column": null,
            "overflow_y": null,
            "overflow_x": null,
            "grid_auto_flow": null,
            "grid_area": null,
            "grid_template_columns": null,
            "flex": null,
            "_model_name": "LayoutModel",
            "justify_items": null,
            "grid_row": null,
            "max_height": null,
            "align_content": null,
            "visibility": null,
            "align_self": null,
            "height": null,
            "min_height": null,
            "padding": null,
            "grid_auto_rows": null,
            "grid_gap": null,
            "max_width": null,
            "order": null,
            "_view_module_version": "1.2.0",
            "grid_template_areas": null,
            "object_position": null,
            "object_fit": null,
            "grid_auto_columns": null,
            "margin": null,
            "display": null,
            "left": null
          }
        },
        "2b0e1ebc087d49fbbfc3b82c4f426620": {
          "model_module": "@jupyter-widgets/controls",
          "model_name": "DescriptionStyleModel",
          "state": {
            "_view_name": "StyleView",
            "_model_name": "DescriptionStyleModel",
            "description_width": "",
            "_view_module": "@jupyter-widgets/base",
            "_model_module_version": "1.5.0",
            "_view_count": null,
            "_view_module_version": "1.2.0",
            "_model_module": "@jupyter-widgets/controls"
          }
        },
        "e1aa32361a2a4448b84eb305c91008b8": {
          "model_module": "@jupyter-widgets/base",
          "model_name": "LayoutModel",
          "state": {
            "_view_name": "LayoutView",
            "grid_template_rows": null,
            "right": null,
            "justify_content": null,
            "_view_module": "@jupyter-widgets/base",
            "overflow": null,
            "_model_module_version": "1.2.0",
            "_view_count": null,
            "flex_flow": null,
            "width": null,
            "min_width": null,
            "border": null,
            "align_items": null,
            "bottom": null,
            "_model_module": "@jupyter-widgets/base",
            "top": null,
            "grid_column": null,
            "overflow_y": null,
            "overflow_x": null,
            "grid_auto_flow": null,
            "grid_area": null,
            "grid_template_columns": null,
            "flex": null,
            "_model_name": "LayoutModel",
            "justify_items": null,
            "grid_row": null,
            "max_height": null,
            "align_content": null,
            "visibility": null,
            "align_self": null,
            "height": null,
            "min_height": null,
            "padding": null,
            "grid_auto_rows": null,
            "grid_gap": null,
            "max_width": null,
            "order": null,
            "_view_module_version": "1.2.0",
            "grid_template_areas": null,
            "object_position": null,
            "object_fit": null,
            "grid_auto_columns": null,
            "margin": null,
            "display": null,
            "left": null
          }
        },
        "98ec37b9fe6f40dd8bfde5cda501eb5a": {
          "model_module": "@jupyter-widgets/controls",
          "model_name": "HBoxModel",
          "state": {
            "_view_name": "HBoxView",
            "_dom_classes": [],
            "_model_name": "HBoxModel",
            "_view_module": "@jupyter-widgets/controls",
            "_model_module_version": "1.5.0",
            "_view_count": null,
            "_view_module_version": "1.5.0",
            "box_style": "",
            "layout": "IPY_MODEL_6f447338754d4bc19083a4d9e333adb7",
            "_model_module": "@jupyter-widgets/controls",
            "children": [
              "IPY_MODEL_a2518f0f47a349e8b64c7e8ddce8b88f",
              "IPY_MODEL_9a566dcb02e3491ba2cfc011b70d8d5e"
            ]
          }
        },
        "6f447338754d4bc19083a4d9e333adb7": {
          "model_module": "@jupyter-widgets/base",
          "model_name": "LayoutModel",
          "state": {
            "_view_name": "LayoutView",
            "grid_template_rows": null,
            "right": null,
            "justify_content": null,
            "_view_module": "@jupyter-widgets/base",
            "overflow": null,
            "_model_module_version": "1.2.0",
            "_view_count": null,
            "flex_flow": null,
            "width": null,
            "min_width": null,
            "border": null,
            "align_items": null,
            "bottom": null,
            "_model_module": "@jupyter-widgets/base",
            "top": null,
            "grid_column": null,
            "overflow_y": null,
            "overflow_x": null,
            "grid_auto_flow": null,
            "grid_area": null,
            "grid_template_columns": null,
            "flex": null,
            "_model_name": "LayoutModel",
            "justify_items": null,
            "grid_row": null,
            "max_height": null,
            "align_content": null,
            "visibility": null,
            "align_self": null,
            "height": null,
            "min_height": null,
            "padding": null,
            "grid_auto_rows": null,
            "grid_gap": null,
            "max_width": null,
            "order": null,
            "_view_module_version": "1.2.0",
            "grid_template_areas": null,
            "object_position": null,
            "object_fit": null,
            "grid_auto_columns": null,
            "margin": null,
            "display": null,
            "left": null
          }
        },
        "a2518f0f47a349e8b64c7e8ddce8b88f": {
          "model_module": "@jupyter-widgets/controls",
          "model_name": "FloatProgressModel",
          "state": {
            "_view_name": "ProgressView",
            "style": "IPY_MODEL_551236e9079e40d5a64048c014c8a9b8",
            "_dom_classes": [],
            "description": "Downloading: 100%",
            "_model_name": "FloatProgressModel",
            "bar_style": "success",
            "max": 433,
            "_view_module": "@jupyter-widgets/controls",
            "_model_module_version": "1.5.0",
            "value": 433,
            "_view_count": null,
            "_view_module_version": "1.5.0",
            "orientation": "horizontal",
            "min": 0,
            "description_tooltip": null,
            "_model_module": "@jupyter-widgets/controls",
            "layout": "IPY_MODEL_921aa176cdb64c1c8723d56372a937cd"
          }
        },
        "9a566dcb02e3491ba2cfc011b70d8d5e": {
          "model_module": "@jupyter-widgets/controls",
          "model_name": "HTMLModel",
          "state": {
            "_view_name": "HTMLView",
            "style": "IPY_MODEL_62aaa644de2546949904d5ceb97063e9",
            "_dom_classes": [],
            "description": "",
            "_model_name": "HTMLModel",
            "placeholder": "​",
            "_view_module": "@jupyter-widgets/controls",
            "_model_module_version": "1.5.0",
            "value": " 433/433 [00:00&lt;00:00, 475B/s]",
            "_view_count": null,
            "_view_module_version": "1.5.0",
            "description_tooltip": null,
            "_model_module": "@jupyter-widgets/controls",
            "layout": "IPY_MODEL_1832a01492da43e89307a74c44d86708"
          }
        },
        "551236e9079e40d5a64048c014c8a9b8": {
          "model_module": "@jupyter-widgets/controls",
          "model_name": "ProgressStyleModel",
          "state": {
            "_view_name": "StyleView",
            "_model_name": "ProgressStyleModel",
            "description_width": "initial",
            "_view_module": "@jupyter-widgets/base",
            "_model_module_version": "1.5.0",
            "_view_count": null,
            "_view_module_version": "1.2.0",
            "bar_color": null,
            "_model_module": "@jupyter-widgets/controls"
          }
        },
        "921aa176cdb64c1c8723d56372a937cd": {
          "model_module": "@jupyter-widgets/base",
          "model_name": "LayoutModel",
          "state": {
            "_view_name": "LayoutView",
            "grid_template_rows": null,
            "right": null,
            "justify_content": null,
            "_view_module": "@jupyter-widgets/base",
            "overflow": null,
            "_model_module_version": "1.2.0",
            "_view_count": null,
            "flex_flow": null,
            "width": null,
            "min_width": null,
            "border": null,
            "align_items": null,
            "bottom": null,
            "_model_module": "@jupyter-widgets/base",
            "top": null,
            "grid_column": null,
            "overflow_y": null,
            "overflow_x": null,
            "grid_auto_flow": null,
            "grid_area": null,
            "grid_template_columns": null,
            "flex": null,
            "_model_name": "LayoutModel",
            "justify_items": null,
            "grid_row": null,
            "max_height": null,
            "align_content": null,
            "visibility": null,
            "align_self": null,
            "height": null,
            "min_height": null,
            "padding": null,
            "grid_auto_rows": null,
            "grid_gap": null,
            "max_width": null,
            "order": null,
            "_view_module_version": "1.2.0",
            "grid_template_areas": null,
            "object_position": null,
            "object_fit": null,
            "grid_auto_columns": null,
            "margin": null,
            "display": null,
            "left": null
          }
        },
        "62aaa644de2546949904d5ceb97063e9": {
          "model_module": "@jupyter-widgets/controls",
          "model_name": "DescriptionStyleModel",
          "state": {
            "_view_name": "StyleView",
            "_model_name": "DescriptionStyleModel",
            "description_width": "",
            "_view_module": "@jupyter-widgets/base",
            "_model_module_version": "1.5.0",
            "_view_count": null,
            "_view_module_version": "1.2.0",
            "_model_module": "@jupyter-widgets/controls"
          }
        },
        "1832a01492da43e89307a74c44d86708": {
          "model_module": "@jupyter-widgets/base",
          "model_name": "LayoutModel",
          "state": {
            "_view_name": "LayoutView",
            "grid_template_rows": null,
            "right": null,
            "justify_content": null,
            "_view_module": "@jupyter-widgets/base",
            "overflow": null,
            "_model_module_version": "1.2.0",
            "_view_count": null,
            "flex_flow": null,
            "width": null,
            "min_width": null,
            "border": null,
            "align_items": null,
            "bottom": null,
            "_model_module": "@jupyter-widgets/base",
            "top": null,
            "grid_column": null,
            "overflow_y": null,
            "overflow_x": null,
            "grid_auto_flow": null,
            "grid_area": null,
            "grid_template_columns": null,
            "flex": null,
            "_model_name": "LayoutModel",
            "justify_items": null,
            "grid_row": null,
            "max_height": null,
            "align_content": null,
            "visibility": null,
            "align_self": null,
            "height": null,
            "min_height": null,
            "padding": null,
            "grid_auto_rows": null,
            "grid_gap": null,
            "max_width": null,
            "order": null,
            "_view_module_version": "1.2.0",
            "grid_template_areas": null,
            "object_position": null,
            "object_fit": null,
            "grid_auto_columns": null,
            "margin": null,
            "display": null,
            "left": null
          }
        },
        "4f3f8a09c8424cb6a48e01ac68763858": {
          "model_module": "@jupyter-widgets/controls",
          "model_name": "HBoxModel",
          "state": {
            "_view_name": "HBoxView",
            "_dom_classes": [],
            "_model_name": "HBoxModel",
            "_view_module": "@jupyter-widgets/controls",
            "_model_module_version": "1.5.0",
            "_view_count": null,
            "_view_module_version": "1.5.0",
            "box_style": "",
            "layout": "IPY_MODEL_5e083f646b9745818eb8e186d957107b",
            "_model_module": "@jupyter-widgets/controls",
            "children": [
              "IPY_MODEL_c5d0aae26fd74094a688fba398537351",
              "IPY_MODEL_9074ebe8b4814cedb15d90ddf8f06fe2"
            ]
          }
        },
        "5e083f646b9745818eb8e186d957107b": {
          "model_module": "@jupyter-widgets/base",
          "model_name": "LayoutModel",
          "state": {
            "_view_name": "LayoutView",
            "grid_template_rows": null,
            "right": null,
            "justify_content": null,
            "_view_module": "@jupyter-widgets/base",
            "overflow": null,
            "_model_module_version": "1.2.0",
            "_view_count": null,
            "flex_flow": null,
            "width": null,
            "min_width": null,
            "border": null,
            "align_items": null,
            "bottom": null,
            "_model_module": "@jupyter-widgets/base",
            "top": null,
            "grid_column": null,
            "overflow_y": null,
            "overflow_x": null,
            "grid_auto_flow": null,
            "grid_area": null,
            "grid_template_columns": null,
            "flex": null,
            "_model_name": "LayoutModel",
            "justify_items": null,
            "grid_row": null,
            "max_height": null,
            "align_content": null,
            "visibility": null,
            "align_self": null,
            "height": null,
            "min_height": null,
            "padding": null,
            "grid_auto_rows": null,
            "grid_gap": null,
            "max_width": null,
            "order": null,
            "_view_module_version": "1.2.0",
            "grid_template_areas": null,
            "object_position": null,
            "object_fit": null,
            "grid_auto_columns": null,
            "margin": null,
            "display": null,
            "left": null
          }
        },
        "c5d0aae26fd74094a688fba398537351": {
          "model_module": "@jupyter-widgets/controls",
          "model_name": "FloatProgressModel",
          "state": {
            "_view_name": "ProgressView",
            "style": "IPY_MODEL_d37493b92a0f4d7fa767a9984c03ced8",
            "_dom_classes": [],
            "description": "Downloading: 100%",
            "_model_name": "FloatProgressModel",
            "bar_style": "success",
            "max": 440473133,
            "_view_module": "@jupyter-widgets/controls",
            "_model_module_version": "1.5.0",
            "value": 440473133,
            "_view_count": null,
            "_view_module_version": "1.5.0",
            "orientation": "horizontal",
            "min": 0,
            "description_tooltip": null,
            "_model_module": "@jupyter-widgets/controls",
            "layout": "IPY_MODEL_57d407736a614f5580e2478d705baebb"
          }
        },
        "9074ebe8b4814cedb15d90ddf8f06fe2": {
          "model_module": "@jupyter-widgets/controls",
          "model_name": "HTMLModel",
          "state": {
            "_view_name": "HTMLView",
            "style": "IPY_MODEL_100cbc3156bd4d618b441fe8d0aed67b",
            "_dom_classes": [],
            "description": "",
            "_model_name": "HTMLModel",
            "placeholder": "​",
            "_view_module": "@jupyter-widgets/controls",
            "_model_module_version": "1.5.0",
            "value": " 440M/440M [00:28&lt;00:00, 15.5MB/s]",
            "_view_count": null,
            "_view_module_version": "1.5.0",
            "description_tooltip": null,
            "_model_module": "@jupyter-widgets/controls",
            "layout": "IPY_MODEL_780211b128ef414da85163afd1d5ae90"
          }
        },
        "d37493b92a0f4d7fa767a9984c03ced8": {
          "model_module": "@jupyter-widgets/controls",
          "model_name": "ProgressStyleModel",
          "state": {
            "_view_name": "StyleView",
            "_model_name": "ProgressStyleModel",
            "description_width": "initial",
            "_view_module": "@jupyter-widgets/base",
            "_model_module_version": "1.5.0",
            "_view_count": null,
            "_view_module_version": "1.2.0",
            "bar_color": null,
            "_model_module": "@jupyter-widgets/controls"
          }
        },
        "57d407736a614f5580e2478d705baebb": {
          "model_module": "@jupyter-widgets/base",
          "model_name": "LayoutModel",
          "state": {
            "_view_name": "LayoutView",
            "grid_template_rows": null,
            "right": null,
            "justify_content": null,
            "_view_module": "@jupyter-widgets/base",
            "overflow": null,
            "_model_module_version": "1.2.0",
            "_view_count": null,
            "flex_flow": null,
            "width": null,
            "min_width": null,
            "border": null,
            "align_items": null,
            "bottom": null,
            "_model_module": "@jupyter-widgets/base",
            "top": null,
            "grid_column": null,
            "overflow_y": null,
            "overflow_x": null,
            "grid_auto_flow": null,
            "grid_area": null,
            "grid_template_columns": null,
            "flex": null,
            "_model_name": "LayoutModel",
            "justify_items": null,
            "grid_row": null,
            "max_height": null,
            "align_content": null,
            "visibility": null,
            "align_self": null,
            "height": null,
            "min_height": null,
            "padding": null,
            "grid_auto_rows": null,
            "grid_gap": null,
            "max_width": null,
            "order": null,
            "_view_module_version": "1.2.0",
            "grid_template_areas": null,
            "object_position": null,
            "object_fit": null,
            "grid_auto_columns": null,
            "margin": null,
            "display": null,
            "left": null
          }
        },
        "100cbc3156bd4d618b441fe8d0aed67b": {
          "model_module": "@jupyter-widgets/controls",
          "model_name": "DescriptionStyleModel",
          "state": {
            "_view_name": "StyleView",
            "_model_name": "DescriptionStyleModel",
            "description_width": "",
            "_view_module": "@jupyter-widgets/base",
            "_model_module_version": "1.5.0",
            "_view_count": null,
            "_view_module_version": "1.2.0",
            "_model_module": "@jupyter-widgets/controls"
          }
        },
        "780211b128ef414da85163afd1d5ae90": {
          "model_module": "@jupyter-widgets/base",
          "model_name": "LayoutModel",
          "state": {
            "_view_name": "LayoutView",
            "grid_template_rows": null,
            "right": null,
            "justify_content": null,
            "_view_module": "@jupyter-widgets/base",
            "overflow": null,
            "_model_module_version": "1.2.0",
            "_view_count": null,
            "flex_flow": null,
            "width": null,
            "min_width": null,
            "border": null,
            "align_items": null,
            "bottom": null,
            "_model_module": "@jupyter-widgets/base",
            "top": null,
            "grid_column": null,
            "overflow_y": null,
            "overflow_x": null,
            "grid_auto_flow": null,
            "grid_area": null,
            "grid_template_columns": null,
            "flex": null,
            "_model_name": "LayoutModel",
            "justify_items": null,
            "grid_row": null,
            "max_height": null,
            "align_content": null,
            "visibility": null,
            "align_self": null,
            "height": null,
            "min_height": null,
            "padding": null,
            "grid_auto_rows": null,
            "grid_gap": null,
            "max_width": null,
            "order": null,
            "_view_module_version": "1.2.0",
            "grid_template_areas": null,
            "object_position": null,
            "object_fit": null,
            "grid_auto_columns": null,
            "margin": null,
            "display": null,
            "left": null
          }
        }
      }
    }
  },
  "cells": [
    {
      "cell_type": "code",
      "metadata": {
        "colab": {
          "base_uri": "https://localhost:8080/"
        },
        "id": "aTLzcZUSF9NX",
        "outputId": "4e3d9672-c8f2-4a7d-d5e2-7ce6ce6f4c2d"
      },
      "source": [
        "cd /content/drive/MyDrive/HuggingFace_Pretrained_FineTuning/NewsDataSet"
      ],
      "execution_count": 1,
      "outputs": [
        {
          "output_type": "stream",
          "text": [
            "/content/drive/MyDrive/HuggingFace_Pretrained_FineTuning/NewsDataSet\n"
          ],
          "name": "stdout"
        }
      ]
    },
    {
      "cell_type": "markdown",
      "metadata": {
        "id": "yUYFbbh6QAah"
      },
      "source": [
        "Process Dataset"
      ]
    },
    {
      "cell_type": "code",
      "metadata": {
        "id": "ORQAipzaP3Sb"
      },
      "source": [
        "datapath = '/content/drive/MyDrive/HuggingFace_Pretrained_FineTuning/NewsDataSet/news.csv'\r\n",
        "processedDataFolder = '/content/drive/MyDrive/HuggingFace_Pretrained_FineTuning/NewsDataSet'"
      ],
      "execution_count": 2,
      "outputs": []
    },
    {
      "cell_type": "code",
      "metadata": {
        "id": "eOK_BT8ZP4K0"
      },
      "source": [
        "test_data_ratio = 0.10\r\n",
        "valid_data_ratio = 0.80\r\n",
        "\r\n",
        "first_n_words = 200"
      ],
      "execution_count": 3,
      "outputs": []
    },
    {
      "cell_type": "code",
      "metadata": {
        "id": "KVqPpbk4bPz-"
      },
      "source": [
        "import pandas as pd\r\n",
        "from sklearn.model_selection import train_test_split"
      ],
      "execution_count": 4,
      "outputs": []
    },
    {
      "cell_type": "code",
      "metadata": {
        "id": "5v8RZ5TfbWyr"
      },
      "source": [
        "def trim_string(x):\r\n",
        "\r\n",
        "    x = x.split(maxsplit=first_n_words)\r\n",
        "    x = ' '.join(x[:first_n_words])\r\n",
        "\r\n",
        "    return x"
      ],
      "execution_count": 5,
      "outputs": []
    },
    {
      "cell_type": "code",
      "metadata": {
        "id": "3Rswxz_DbYb5"
      },
      "source": [
        "# Read raw data\r\n",
        "df_raw = pd.read_csv(datapath)\r\n",
        "\r\n",
        "# Prepare columns\r\n",
        "df_raw['label'] = (df_raw['label'] == 'FAKE').astype('int')\r\n",
        "df_raw['titletext'] = df_raw['title'] + \". \" + df_raw['text']\r\n",
        "df_raw = df_raw.reindex(columns=['label', 'title', 'text', 'titletext'])\r\n",
        "\r\n",
        "# Drop rows with empty text\r\n",
        "df_raw.drop( df_raw[df_raw.text.str.len() < 5].index, inplace=True)\r\n",
        "\r\n",
        "# Trim text and titletext to first_n_words\r\n",
        "df_raw['text'] = df_raw['text'].apply(trim_string)\r\n",
        "df_raw['titletext'] = df_raw['titletext'].apply(trim_string) \r\n",
        "\r\n",
        "# Split according to label\r\n",
        "df_real = df_raw[df_raw['label'] == 0]\r\n",
        "df_fake = df_raw[df_raw['label'] == 1]\r\n",
        "\r\n",
        "# Train-test split\r\n",
        "df_real_full_train, df_real_test = train_test_split(df_real, train_size = test_data_ratio, random_state = 1)\r\n",
        "df_fake_full_train, df_fake_test = train_test_split(df_fake, train_size = test_data_ratio, random_state = 1)\r\n",
        "\r\n",
        "# Train-valid split\r\n",
        "df_real_train, df_real_valid = train_test_split(df_real_full_train, train_size = valid_data_ratio, random_state = 1)\r\n",
        "df_fake_train, df_fake_valid = train_test_split(df_fake_full_train, train_size = valid_data_ratio, random_state = 1)\r\n",
        "\r\n",
        "# Concatenate splits of different labels\r\n",
        "df_train = pd.concat([df_real_train, df_fake_train], ignore_index=True, sort=False)\r\n",
        "df_valid = pd.concat([df_real_valid, df_fake_valid], ignore_index=True, sort=False)\r\n",
        "df_test = pd.concat([df_real_test, df_fake_test], ignore_index=True, sort=False)\r\n",
        "\r\n",
        "# Write preprocessed data\r\n",
        "df_train.to_csv(processedDataFolder + '/train.csv', index=False)\r\n",
        "df_valid.to_csv(processedDataFolder + '/valid.csv', index=False)\r\n",
        "df_test.to_csv(processedDataFolder + '/test.csv', index=False)"
      ],
      "execution_count": 8,
      "outputs": []
    },
    {
      "cell_type": "markdown",
      "metadata": {
        "id": "X-xX3Wp-dfLZ"
      },
      "source": [
        "Data description"
      ]
    },
    {
      "cell_type": "code",
      "metadata": {
        "id": "OHKLT8KMdhiz"
      },
      "source": [
        "import pandas as pd"
      ],
      "execution_count": 14,
      "outputs": []
    },
    {
      "cell_type": "code",
      "metadata": {
        "colab": {
          "base_uri": "https://localhost:8080/",
          "height": 198
        },
        "id": "nkVVfWUgdkNz",
        "outputId": "356f7b86-875a-42e4-d604-6e6604fd28cb"
      },
      "source": [
        "df = pd.read_csv('/content/drive/MyDrive/HuggingFace_Pretrained_FineTuning/NewsDataSet/train.csv')\r\n",
        "df.head()"
      ],
      "execution_count": 15,
      "outputs": [
        {
          "output_type": "execute_result",
          "data": {
            "text/html": [
              "<div>\n",
              "<style scoped>\n",
              "    .dataframe tbody tr th:only-of-type {\n",
              "        vertical-align: middle;\n",
              "    }\n",
              "\n",
              "    .dataframe tbody tr th {\n",
              "        vertical-align: top;\n",
              "    }\n",
              "\n",
              "    .dataframe thead th {\n",
              "        text-align: right;\n",
              "    }\n",
              "</style>\n",
              "<table border=\"1\" class=\"dataframe\">\n",
              "  <thead>\n",
              "    <tr style=\"text-align: right;\">\n",
              "      <th></th>\n",
              "      <th>label</th>\n",
              "      <th>title</th>\n",
              "      <th>text</th>\n",
              "      <th>titletext</th>\n",
              "    </tr>\n",
              "  </thead>\n",
              "  <tbody>\n",
              "    <tr>\n",
              "      <th>0</th>\n",
              "      <td>0</td>\n",
              "      <td>Obamacare's unlikely No. 1 city</td>\n",
              "      <td>Killing Obama administration rules, dismantlin...</td>\n",
              "      <td>Obamacare's unlikely No. 1 city. Killing Obama...</td>\n",
              "    </tr>\n",
              "    <tr>\n",
              "      <th>1</th>\n",
              "      <td>0</td>\n",
              "      <td>New York restores order for 2016 front-runners</td>\n",
              "      <td>Hillary Clinton and Donald Trump scored resoun...</td>\n",
              "      <td>New York restores order for 2016 front-runners...</td>\n",
              "    </tr>\n",
              "    <tr>\n",
              "      <th>2</th>\n",
              "      <td>0</td>\n",
              "      <td>These political scientists may have just disco...</td>\n",
              "      <td>There's a lot of disgust in America with polit...</td>\n",
              "      <td>These political scientists may have just disco...</td>\n",
              "    </tr>\n",
              "    <tr>\n",
              "      <th>3</th>\n",
              "      <td>0</td>\n",
              "      <td>Hillary supporters: We're excited, too, but al...</td>\n",
              "      <td>Trump and Sanders get all the attention for th...</td>\n",
              "      <td>Hillary supporters: We're excited, too, but al...</td>\n",
              "    </tr>\n",
              "    <tr>\n",
              "      <th>4</th>\n",
              "      <td>0</td>\n",
              "      <td>Hung jury in Jodi Arias sentencing phase remov...</td>\n",
              "      <td>The jury in the Jodi Arias case tasked with de...</td>\n",
              "      <td>Hung jury in Jodi Arias sentencing phase remov...</td>\n",
              "    </tr>\n",
              "  </tbody>\n",
              "</table>\n",
              "</div>"
            ],
            "text/plain": [
              "   label  ...                                          titletext\n",
              "0      0  ...  Obamacare's unlikely No. 1 city. Killing Obama...\n",
              "1      0  ...  New York restores order for 2016 front-runners...\n",
              "2      0  ...  These political scientists may have just disco...\n",
              "3      0  ...  Hillary supporters: We're excited, too, but al...\n",
              "4      0  ...  Hung jury in Jodi Arias sentencing phase remov...\n",
              "\n",
              "[5 rows x 4 columns]"
            ]
          },
          "metadata": {
            "tags": []
          },
          "execution_count": 15
        }
      ]
    },
    {
      "cell_type": "markdown",
      "metadata": {
        "id": "WZF-DY3bcXQP"
      },
      "source": [
        "Model Finetuning"
      ]
    },
    {
      "cell_type": "code",
      "metadata": {
        "colab": {
          "base_uri": "https://localhost:8080/"
        },
        "id": "rAryPgdhbwaL",
        "outputId": "c6ddfdd1-97c6-4e50-a69d-287ba6ffe035"
      },
      "source": [
        "!pip install transformers"
      ],
      "execution_count": 9,
      "outputs": [
        {
          "output_type": "stream",
          "text": [
            "Collecting transformers\n",
            "\u001b[?25l  Downloading https://files.pythonhosted.org/packages/cd/40/866cbfac4601e0f74c7303d533a9c5d4a53858bd402e08e3e294dd271f25/transformers-4.2.1-py3-none-any.whl (1.8MB)\n",
            "\u001b[K     |████████████████████████████████| 1.8MB 4.1MB/s \n",
            "\u001b[?25hRequirement already satisfied: filelock in /usr/local/lib/python3.6/dist-packages (from transformers) (3.0.12)\n",
            "Requirement already satisfied: requests in /usr/local/lib/python3.6/dist-packages (from transformers) (2.23.0)\n",
            "Requirement already satisfied: regex!=2019.12.17 in /usr/local/lib/python3.6/dist-packages (from transformers) (2019.12.20)\n",
            "Requirement already satisfied: importlib-metadata; python_version < \"3.8\" in /usr/local/lib/python3.6/dist-packages (from transformers) (3.3.0)\n",
            "Requirement already satisfied: packaging in /usr/local/lib/python3.6/dist-packages (from transformers) (20.8)\n",
            "Requirement already satisfied: numpy in /usr/local/lib/python3.6/dist-packages (from transformers) (1.19.5)\n",
            "Collecting sacremoses\n",
            "\u001b[?25l  Downloading https://files.pythonhosted.org/packages/7d/34/09d19aff26edcc8eb2a01bed8e98f13a1537005d31e95233fd48216eed10/sacremoses-0.0.43.tar.gz (883kB)\n",
            "\u001b[K     |████████████████████████████████| 890kB 14.8MB/s \n",
            "\u001b[?25hRequirement already satisfied: dataclasses; python_version < \"3.7\" in /usr/local/lib/python3.6/dist-packages (from transformers) (0.8)\n",
            "Requirement already satisfied: tqdm>=4.27 in /usr/local/lib/python3.6/dist-packages (from transformers) (4.41.1)\n",
            "Collecting tokenizers==0.9.4\n",
            "\u001b[?25l  Downloading https://files.pythonhosted.org/packages/0f/1c/e789a8b12e28be5bc1ce2156cf87cb522b379be9cadc7ad8091a4cc107c4/tokenizers-0.9.4-cp36-cp36m-manylinux2010_x86_64.whl (2.9MB)\n",
            "\u001b[K     |████████████████████████████████| 2.9MB 12.4MB/s \n",
            "\u001b[?25hRequirement already satisfied: chardet<4,>=3.0.2 in /usr/local/lib/python3.6/dist-packages (from requests->transformers) (3.0.4)\n",
            "Requirement already satisfied: urllib3!=1.25.0,!=1.25.1,<1.26,>=1.21.1 in /usr/local/lib/python3.6/dist-packages (from requests->transformers) (1.24.3)\n",
            "Requirement already satisfied: certifi>=2017.4.17 in /usr/local/lib/python3.6/dist-packages (from requests->transformers) (2020.12.5)\n",
            "Requirement already satisfied: idna<3,>=2.5 in /usr/local/lib/python3.6/dist-packages (from requests->transformers) (2.10)\n",
            "Requirement already satisfied: typing-extensions>=3.6.4; python_version < \"3.8\" in /usr/local/lib/python3.6/dist-packages (from importlib-metadata; python_version < \"3.8\"->transformers) (3.7.4.3)\n",
            "Requirement already satisfied: zipp>=0.5 in /usr/local/lib/python3.6/dist-packages (from importlib-metadata; python_version < \"3.8\"->transformers) (3.4.0)\n",
            "Requirement already satisfied: pyparsing>=2.0.2 in /usr/local/lib/python3.6/dist-packages (from packaging->transformers) (2.4.7)\n",
            "Requirement already satisfied: six in /usr/local/lib/python3.6/dist-packages (from sacremoses->transformers) (1.15.0)\n",
            "Requirement already satisfied: click in /usr/local/lib/python3.6/dist-packages (from sacremoses->transformers) (7.1.2)\n",
            "Requirement already satisfied: joblib in /usr/local/lib/python3.6/dist-packages (from sacremoses->transformers) (1.0.0)\n",
            "Building wheels for collected packages: sacremoses\n",
            "  Building wheel for sacremoses (setup.py) ... \u001b[?25l\u001b[?25hdone\n",
            "  Created wheel for sacremoses: filename=sacremoses-0.0.43-cp36-none-any.whl size=893261 sha256=63f27f93378c9dba310455ca959c6bcf4344a5e1d6a1723e89a2ab054c32ad47\n",
            "  Stored in directory: /root/.cache/pip/wheels/29/3c/fd/7ce5c3f0666dab31a50123635e6fb5e19ceb42ce38d4e58f45\n",
            "Successfully built sacremoses\n",
            "Installing collected packages: sacremoses, tokenizers, transformers\n",
            "Successfully installed sacremoses-0.0.43 tokenizers-0.9.4 transformers-4.2.1\n"
          ],
          "name": "stdout"
        }
      ]
    },
    {
      "cell_type": "code",
      "metadata": {
        "id": "NFKWtzl4ccG7"
      },
      "source": [
        "import matplotlib.pyplot as plt\r\n",
        "import pandas as pd\r\n",
        "import torch\r\n",
        "\r\n",
        "from torchtext.data import Field, TabularDataset, BucketIterator, Iterator\r\n",
        "\r\n",
        "import torch.nn as nn\r\n",
        "from transformers import BertTokenizer, BertForSequenceClassification\r\n",
        "\r\n",
        "import torch.optim as optim\r\n",
        "\r\n",
        "from sklearn.metrics import accuracy_score, classification_report, confusion_matrix\r\n",
        "import seaborn as sns"
      ],
      "execution_count": 10,
      "outputs": []
    },
    {
      "cell_type": "code",
      "metadata": {
        "colab": {
          "base_uri": "https://localhost:8080/"
        },
        "id": "jr8h0Xn_dH0C",
        "outputId": "ddc2c169-9351-47d2-d7e8-8ebe4eeae613"
      },
      "source": [
        "device = torch.device('cuda:0' if torch.cuda.is_available() else 'cpu')\r\n",
        "print(device)"
      ],
      "execution_count": 11,
      "outputs": [
        {
          "output_type": "stream",
          "text": [
            "cuda:0\n"
          ],
          "name": "stdout"
        }
      ]
    },
    {
      "cell_type": "code",
      "metadata": {
        "colab": {
          "base_uri": "https://localhost:8080/",
          "height": 67,
          "referenced_widgets": [
            "9f1dcada41694aa28122705f5f4b2baf",
            "e424529f40d9498b97de02058216095b",
            "768b497f42a94ae3937957ff8e7e3f80",
            "e04352318d554e598d6fbd469a9ad283",
            "09685637f329475e8da3da5ea2ffebaa",
            "ddc55264fd264a20a6fda72be7b7828a",
            "2b0e1ebc087d49fbbfc3b82c4f426620",
            "e1aa32361a2a4448b84eb305c91008b8"
          ]
        },
        "id": "J6kZxgLndJrT",
        "outputId": "45d8a46d-1c24-436e-e312-7dd4ae4c07ff"
      },
      "source": [
        "tokenizer = BertTokenizer.from_pretrained('bert-base-uncased')"
      ],
      "execution_count": 12,
      "outputs": [
        {
          "output_type": "display_data",
          "data": {
            "application/vnd.jupyter.widget-view+json": {
              "model_id": "9f1dcada41694aa28122705f5f4b2baf",
              "version_minor": 0,
              "version_major": 2
            },
            "text/plain": [
              "HBox(children=(FloatProgress(value=0.0, description='Downloading', max=231508.0, style=ProgressStyle(descripti…"
            ]
          },
          "metadata": {
            "tags": []
          }
        },
        {
          "output_type": "stream",
          "text": [
            "\n"
          ],
          "name": "stdout"
        }
      ]
    },
    {
      "cell_type": "markdown",
      "metadata": {
        "id": "2JbP_dQYdQC0"
      },
      "source": [
        "Model Parameters"
      ]
    },
    {
      "cell_type": "code",
      "metadata": {
        "id": "JuMiGQjkdL4I"
      },
      "source": [
        "MAX_SEQ_LEN = 128\r\n",
        "PAD_INDEX = tokenizer.convert_tokens_to_ids(tokenizer.pad_token)\r\n",
        "UNK_INDEX = tokenizer.convert_tokens_to_ids(tokenizer.unk_token)"
      ],
      "execution_count": 13,
      "outputs": []
    },
    {
      "cell_type": "code",
      "metadata": {
        "id": "o9kMvtyEdVED"
      },
      "source": [
        "label_field = Field(sequential=False, use_vocab=False, batch_first=True, dtype=torch.float)\r\n",
        "text_field = Field(use_vocab=False, tokenize=tokenizer.encode, lower=False, include_lengths=False, batch_first=True,\r\n",
        "                   fix_length=MAX_SEQ_LEN, pad_token=PAD_INDEX, unk_token=UNK_INDEX)\r\n",
        "fields = [('label', label_field), ('title', text_field), ('text', text_field), ('titletext', text_field)]"
      ],
      "execution_count": 16,
      "outputs": []
    },
    {
      "cell_type": "code",
      "metadata": {
        "colab": {
          "base_uri": "https://localhost:8080/"
        },
        "id": "rkjGWjzAeZTU",
        "outputId": "15aa3bba-49fe-4f2a-8d8a-79e5305f63ec"
      },
      "source": [
        "train, valid, test = TabularDataset.splits(path=processedDataFolder, train='train.csv', validation='valid.csv',\r\n",
        "                                           test='test.csv', format='CSV', fields=fields, skip_header=True)"
      ],
      "execution_count": 18,
      "outputs": [
        {
          "output_type": "stream",
          "text": [
            "Token indices sequence length is longer than the specified maximum sequence length for this model (706 > 512). Running this sequence through the model will result in indexing errors\n"
          ],
          "name": "stderr"
        }
      ]
    },
    {
      "cell_type": "markdown",
      "metadata": {
        "id": "D80nuVd2fJ1s"
      },
      "source": [
        "Iterators"
      ]
    },
    {
      "cell_type": "code",
      "metadata": {
        "id": "KbzIbrz7edYE"
      },
      "source": [
        "train_iter = BucketIterator(train, batch_size=16, sort_key=lambda x: len(x.text), device=device, train=True, sort=True, sort_within_batch=True)\r\n",
        "valid_iter = BucketIterator(valid, batch_size=16, sort_key=lambda x: len(x.text), device=device, train=True, sort=True, sort_within_batch=True)\r\n",
        "test_iter = Iterator(test, batch_size=16, device=device, train=False, shuffle=False, sort=False)"
      ],
      "execution_count": 19,
      "outputs": []
    },
    {
      "cell_type": "markdown",
      "metadata": {
        "id": "Yp-xw5ONfzav"
      },
      "source": [
        "Model definition"
      ]
    },
    {
      "cell_type": "code",
      "metadata": {
        "id": "7v8WXgzkfu7Z"
      },
      "source": [
        "class BERT(nn.Module):\r\n",
        "\r\n",
        "    def __init__(self):\r\n",
        "        super(BERT, self).__init__()\r\n",
        "        options_name = \"bert-base-uncased\"\r\n",
        "        self.encoder = BertForSequenceClassification.from_pretrained(options_name)\r\n",
        "\r\n",
        "    def forward(self, text, label):\r\n",
        "        loss, textFeature = self.encoder(text, labels=label)[:2]\r\n",
        "        return loss, textFeature"
      ],
      "execution_count": 21,
      "outputs": []
    },
    {
      "cell_type": "markdown",
      "metadata": {
        "id": "1BHyrTNTgclw"
      },
      "source": [
        "Training"
      ]
    },
    {
      "cell_type": "code",
      "metadata": {
        "id": "8rXJkKkpgCGt"
      },
      "source": [
        "#Save checkpoint\r\n",
        "def save_checkpoint(save_path, model, valid_loss):\r\n",
        "    if save_path == None:\r\n",
        "        return\r\n",
        "    state_dict = {'model_state_dict': model.state_dict(),\r\n",
        "                  'valid_loss': valid_loss}\r\n",
        "    torch.save(state_dict, save_path)\r\n",
        "    print(f'Model saved to ==> {save_path}')\r\n",
        "\r\n",
        "#Load checkpoint\r\n",
        "def load_checkpoint(load_path, model):\r\n",
        "    if load_path==None:\r\n",
        "        return\r\n",
        "    state_dict = torch.load(load_path, map_location=device)\r\n",
        "    print(f'Model loaded from <== {load_path}')\r\n",
        "    model.load_state_dict(state_dict['model_state_dict'])\r\n",
        "    return state_dict['valid_loss']\r\n",
        "\r\n",
        "#Save metrics of the model\r\n",
        "def save_metrics(save_path, train_loss_list, valid_loss_list, global_steps_list):\r\n",
        "    if save_path == None:\r\n",
        "        return\r\n",
        "    state_dict = {'train_loss_list': train_loss_list,\r\n",
        "                  'valid_loss_list': valid_loss_list,\r\n",
        "                  'global_steps_list': global_steps_list}\r\n",
        "    torch.save(state_dict, save_path)\r\n",
        "    print(f'Model saved to ==> {save_path}')\r\n",
        "\r\n",
        "#Load metrics\r\n",
        "def load_metrics(load_path):\r\n",
        "    if load_path==None:\r\n",
        "        return\r\n",
        "    state_dict = torch.load(load_path, map_location=device)\r\n",
        "    print(f'Model loaded from <== {load_path}')\r\n",
        "    return state_dict['train_loss_list'], state_dict['valid_loss_list'], state_dict['global_steps_list']"
      ],
      "execution_count": 22,
      "outputs": []
    },
    {
      "cell_type": "code",
      "metadata": {
        "id": "dQ960wqEiYrp"
      },
      "source": [
        "# Training Function\r\n",
        "\r\n",
        "def train(model,\r\n",
        "          optimizer,\r\n",
        "          criterion = nn.BCELoss(),\r\n",
        "          train_loader = train_iter,\r\n",
        "          valid_loader = valid_iter,\r\n",
        "          num_epochs = 5,\r\n",
        "          eval_every = len(train_iter) // 2,\r\n",
        "          file_path = processedDataFolder,\r\n",
        "          best_valid_loss = float(\"Inf\")):\r\n",
        "    \r\n",
        "    # initialize running values\r\n",
        "    running_loss = 0.0\r\n",
        "    valid_running_loss = 0.0\r\n",
        "    global_step = 0\r\n",
        "    train_loss_list = []\r\n",
        "    valid_loss_list = []\r\n",
        "    global_steps_list = []\r\n",
        "\r\n",
        "    # training loop\r\n",
        "    model.train()\r\n",
        "    for epoch in range(num_epochs):\r\n",
        "        for (labels, title, text, titletext), _ in train_loader:\r\n",
        "            labels = labels.type(torch.LongTensor)           \r\n",
        "            labels = labels.to(device)\r\n",
        "            titletext = titletext.type(torch.LongTensor)  \r\n",
        "            titletext = titletext.to(device)\r\n",
        "            output = model(titletext, labels)\r\n",
        "            loss, _ = output\r\n",
        "\r\n",
        "            optimizer.zero_grad()\r\n",
        "            loss.backward()\r\n",
        "            optimizer.step()\r\n",
        "\r\n",
        "            # update running values\r\n",
        "            running_loss += loss.item()\r\n",
        "            global_step += 1\r\n",
        "\r\n",
        "            # evaluation step\r\n",
        "            if global_step % eval_every == 0:\r\n",
        "                model.eval()\r\n",
        "                with torch.no_grad():                    \r\n",
        "\r\n",
        "                    # validation loop\r\n",
        "                    for (labels, title, text, titletext), _ in valid_loader:\r\n",
        "                        labels = labels.type(torch.LongTensor)           \r\n",
        "                        labels = labels.to(device)\r\n",
        "                        titletext = titletext.type(torch.LongTensor)  \r\n",
        "                        titletext = titletext.to(device)\r\n",
        "                        output = model(titletext, labels)\r\n",
        "                        loss, _ = output\r\n",
        "                        \r\n",
        "                        valid_running_loss += loss.item()\r\n",
        "\r\n",
        "                # evaluation\r\n",
        "                average_train_loss = running_loss / eval_every\r\n",
        "                average_valid_loss = valid_running_loss / len(valid_loader)\r\n",
        "                train_loss_list.append(average_train_loss)\r\n",
        "                valid_loss_list.append(average_valid_loss)\r\n",
        "                global_steps_list.append(global_step)\r\n",
        "\r\n",
        "                # resetting running values\r\n",
        "                running_loss = 0.0                \r\n",
        "                valid_running_loss = 0.0\r\n",
        "                model.train()\r\n",
        "\r\n",
        "                # print progress\r\n",
        "                print('Epoch [{}/{}], Step [{}/{}], Train Loss: {:.4f}, Valid Loss: {:.4f}'\r\n",
        "                      .format(epoch+1, num_epochs, global_step, num_epochs*len(train_loader),\r\n",
        "                              average_train_loss, average_valid_loss))\r\n",
        "                \r\n",
        "                # checkpoint\r\n",
        "                if best_valid_loss > average_valid_loss:\r\n",
        "                    best_valid_loss = average_valid_loss\r\n",
        "                    save_checkpoint(file_path + '/' + 'model.pt', model, best_valid_loss)\r\n",
        "                    save_metrics(file_path + '/' + 'metrics.pt', train_loss_list, valid_loss_list, global_steps_list)\r\n",
        "    \r\n",
        "    save_metrics(file_path + '/' + 'metrics.pt', train_loss_list, valid_loss_list, global_steps_list)\r\n",
        "    print('Finished Training!')"
      ],
      "execution_count": 25,
      "outputs": []
    },
    {
      "cell_type": "code",
      "metadata": {
        "colab": {
          "base_uri": "https://localhost:8080/",
          "height": 592,
          "referenced_widgets": [
            "98ec37b9fe6f40dd8bfde5cda501eb5a",
            "6f447338754d4bc19083a4d9e333adb7",
            "a2518f0f47a349e8b64c7e8ddce8b88f",
            "9a566dcb02e3491ba2cfc011b70d8d5e",
            "551236e9079e40d5a64048c014c8a9b8",
            "921aa176cdb64c1c8723d56372a937cd",
            "62aaa644de2546949904d5ceb97063e9",
            "1832a01492da43e89307a74c44d86708",
            "4f3f8a09c8424cb6a48e01ac68763858",
            "5e083f646b9745818eb8e186d957107b",
            "c5d0aae26fd74094a688fba398537351",
            "9074ebe8b4814cedb15d90ddf8f06fe2",
            "d37493b92a0f4d7fa767a9984c03ced8",
            "57d407736a614f5580e2478d705baebb",
            "100cbc3156bd4d618b441fe8d0aed67b",
            "780211b128ef414da85163afd1d5ae90"
          ]
        },
        "id": "KG3rf8xNiu8t",
        "outputId": "3d71c586-f424-4c04-9e70-84b5f1b29372"
      },
      "source": [
        "model = BERT().to(device)\r\n",
        "optimizer = optim.Adam(model.parameters(), lr=2e-5)\r\n",
        "\r\n",
        "train(model=model, optimizer=optimizer)"
      ],
      "execution_count": 26,
      "outputs": [
        {
          "output_type": "display_data",
          "data": {
            "application/vnd.jupyter.widget-view+json": {
              "model_id": "98ec37b9fe6f40dd8bfde5cda501eb5a",
              "version_minor": 0,
              "version_major": 2
            },
            "text/plain": [
              "HBox(children=(FloatProgress(value=0.0, description='Downloading', max=433.0, style=ProgressStyle(description_…"
            ]
          },
          "metadata": {
            "tags": []
          }
        },
        {
          "output_type": "stream",
          "text": [
            "\n"
          ],
          "name": "stdout"
        },
        {
          "output_type": "display_data",
          "data": {
            "application/vnd.jupyter.widget-view+json": {
              "model_id": "4f3f8a09c8424cb6a48e01ac68763858",
              "version_minor": 0,
              "version_major": 2
            },
            "text/plain": [
              "HBox(children=(FloatProgress(value=0.0, description='Downloading', max=440473133.0, style=ProgressStyle(descri…"
            ]
          },
          "metadata": {
            "tags": []
          }
        },
        {
          "output_type": "stream",
          "text": [
            "\n"
          ],
          "name": "stdout"
        },
        {
          "output_type": "stream",
          "text": [
            "Some weights of the model checkpoint at bert-base-uncased were not used when initializing BertForSequenceClassification: ['cls.predictions.bias', 'cls.predictions.transform.dense.weight', 'cls.predictions.transform.dense.bias', 'cls.predictions.decoder.weight', 'cls.seq_relationship.weight', 'cls.seq_relationship.bias', 'cls.predictions.transform.LayerNorm.weight', 'cls.predictions.transform.LayerNorm.bias']\n",
            "- This IS expected if you are initializing BertForSequenceClassification from the checkpoint of a model trained on another task or with another architecture (e.g. initializing a BertForSequenceClassification model from a BertForPreTraining model).\n",
            "- This IS NOT expected if you are initializing BertForSequenceClassification from the checkpoint of a model that you expect to be exactly identical (initializing a BertForSequenceClassification model from a BertForSequenceClassification model).\n",
            "Some weights of BertForSequenceClassification were not initialized from the model checkpoint at bert-base-uncased and are newly initialized: ['classifier.weight', 'classifier.bias']\n",
            "You should probably TRAIN this model on a down-stream task to be able to use it for predictions and inference.\n"
          ],
          "name": "stderr"
        },
        {
          "output_type": "stream",
          "text": [
            "Epoch [1/5], Step [16/160], Train Loss: 0.6636, Valid Loss: 0.6977\n",
            "Model saved to ==> /content/drive/MyDrive/HuggingFace_Pretrained_FineTuning/NewsDataSet/model.pt\n",
            "Model saved to ==> /content/drive/MyDrive/HuggingFace_Pretrained_FineTuning/NewsDataSet/metrics.pt\n",
            "Epoch [1/5], Step [32/160], Train Loss: 0.4437, Valid Loss: 0.3547\n",
            "Model saved to ==> /content/drive/MyDrive/HuggingFace_Pretrained_FineTuning/NewsDataSet/model.pt\n",
            "Model saved to ==> /content/drive/MyDrive/HuggingFace_Pretrained_FineTuning/NewsDataSet/metrics.pt\n",
            "Epoch [2/5], Step [48/160], Train Loss: 0.3010, Valid Loss: 0.2911\n",
            "Model saved to ==> /content/drive/MyDrive/HuggingFace_Pretrained_FineTuning/NewsDataSet/model.pt\n",
            "Model saved to ==> /content/drive/MyDrive/HuggingFace_Pretrained_FineTuning/NewsDataSet/metrics.pt\n",
            "Epoch [2/5], Step [64/160], Train Loss: 0.2114, Valid Loss: 0.3028\n",
            "Epoch [3/5], Step [80/160], Train Loss: 0.1551, Valid Loss: 0.2964\n",
            "Epoch [3/5], Step [96/160], Train Loss: 0.1292, Valid Loss: 0.2137\n",
            "Model saved to ==> /content/drive/MyDrive/HuggingFace_Pretrained_FineTuning/NewsDataSet/model.pt\n",
            "Model saved to ==> /content/drive/MyDrive/HuggingFace_Pretrained_FineTuning/NewsDataSet/metrics.pt\n",
            "Epoch [4/5], Step [112/160], Train Loss: 0.1624, Valid Loss: 0.2827\n",
            "Epoch [4/5], Step [128/160], Train Loss: 0.0978, Valid Loss: 0.3078\n",
            "Epoch [5/5], Step [144/160], Train Loss: 0.0721, Valid Loss: 0.3066\n",
            "Epoch [5/5], Step [160/160], Train Loss: 0.0696, Valid Loss: 0.2437\n",
            "Model saved to ==> /content/drive/MyDrive/HuggingFace_Pretrained_FineTuning/NewsDataSet/metrics.pt\n",
            "Finished Training!\n"
          ],
          "name": "stdout"
        }
      ]
    },
    {
      "cell_type": "code",
      "metadata": {
        "colab": {
          "base_uri": "https://localhost:8080/",
          "height": 297
        },
        "id": "moBXHdKbjrKc",
        "outputId": "3906f645-1652-4c90-b9af-2a3a81fc2844"
      },
      "source": [
        "train_loss_list, valid_loss_list, global_steps_list = load_metrics(processedDataFolder + '/metrics.pt')\r\n",
        "plt.plot(global_steps_list, train_loss_list, label='Train')\r\n",
        "plt.plot(global_steps_list, valid_loss_list, label='Valid')\r\n",
        "plt.xlabel('Global Steps')\r\n",
        "plt.ylabel('Loss')\r\n",
        "plt.legend()\r\n",
        "plt.show() "
      ],
      "execution_count": 28,
      "outputs": [
        {
          "output_type": "stream",
          "text": [
            "Model loaded from <== /content/drive/MyDrive/HuggingFace_Pretrained_FineTuning/NewsDataSet/metrics.pt\n"
          ],
          "name": "stdout"
        },
        {
          "output_type": "display_data",
          "data": {
            "image/png": "[encoded data removed]",
            "text/plain": [
              "<Figure size 432x288 with 1 Axes>"
            ]
          },
          "metadata": {
            "tags": [],
            "needs_background": "light"
          }
        }
      ]
    },
    {
      "cell_type": "markdown",
      "metadata": {
        "id": "vkaAApBjkLLG"
      },
      "source": [
        "Evaluation"
      ]
    },
    {
      "cell_type": "code",
      "metadata": {
        "id": "mo6IrKjXkD-p"
      },
      "source": [
        "# Evaluation Function\r\n",
        "\r\n",
        "def evaluate(model, test_loader):\r\n",
        "    y_pred = []\r\n",
        "    y_true = []\r\n",
        "\r\n",
        "    model.eval()\r\n",
        "    with torch.no_grad():\r\n",
        "        for (labels, title, text, titletext), _ in test_loader:\r\n",
        "\r\n",
        "                labels = labels.type(torch.LongTensor)           \r\n",
        "                labels = labels.to(device)\r\n",
        "                titletext = titletext.type(torch.LongTensor)  \r\n",
        "                titletext = titletext.to(device)\r\n",
        "                output = model(titletext, labels)\r\n",
        "\r\n",
        "                _, output = output\r\n",
        "                y_pred.extend(torch.argmax(output, 1).tolist())\r\n",
        "                y_true.extend(labels.tolist())\r\n",
        "    \r\n",
        "    print('Classification Report:')\r\n",
        "    print(classification_report(y_true, y_pred, labels=[1,0], digits=4))\r\n",
        "    \r\n",
        "    cm = confusion_matrix(y_true, y_pred, labels=[1,0])\r\n",
        "    ax= plt.subplot()\r\n",
        "    sns.heatmap(cm, annot=True, ax = ax, cmap='Blues', fmt=\"d\")\r\n",
        "\r\n",
        "    ax.set_title('Confusion Matrix')\r\n",
        "\r\n",
        "    ax.set_xlabel('Predicted Labels')\r\n",
        "    ax.set_ylabel('True Labels')\r\n",
        "\r\n",
        "    ax.xaxis.set_ticklabels(['FAKE', 'REAL'])\r\n",
        "    ax.yaxis.set_ticklabels(['FAKE', 'REAL'])"
      ],
      "execution_count": 29,
      "outputs": []
    },
    {
      "cell_type": "code",
      "metadata": {
        "colab": {
          "base_uri": "https://localhost:8080/",
          "height": 605
        },
        "id": "Nm_oH9zgkSQ3",
        "outputId": "a37d8131-76ed-41e0-b216-043b4469e250"
      },
      "source": [
        "best_model = BERT().to(device)\r\n",
        "load_checkpoint(processedDataFolder + '/model.pt', best_model)\r\n",
        "evaluate(best_model, test_iter)"
      ],
      "execution_count": 30,
      "outputs": [
        {
          "output_type": "stream",
          "text": [
            "Some weights of the model checkpoint at bert-base-uncased were not used when initializing BertForSequenceClassification: ['cls.predictions.bias', 'cls.predictions.transform.dense.weight', 'cls.predictions.transform.dense.bias', 'cls.predictions.decoder.weight', 'cls.seq_relationship.weight', 'cls.seq_relationship.bias', 'cls.predictions.transform.LayerNorm.weight', 'cls.predictions.transform.LayerNorm.bias']\n",
            "- This IS expected if you are initializing BertForSequenceClassification from the checkpoint of a model trained on another task or with another architecture (e.g. initializing a BertForSequenceClassification model from a BertForPreTraining model).\n",
            "- This IS NOT expected if you are initializing BertForSequenceClassification from the checkpoint of a model that you expect to be exactly identical (initializing a BertForSequenceClassification model from a BertForSequenceClassification model).\n",
            "Some weights of BertForSequenceClassification were not initialized from the model checkpoint at bert-base-uncased and are newly initialized: ['classifier.weight', 'classifier.bias']\n",
            "You should probably TRAIN this model on a down-stream task to be able to use it for predictions and inference.\n"
          ],
          "name": "stderr"
        },
        {
          "output_type": "stream",
          "text": [
            "Model loaded from <== /content/drive/MyDrive/HuggingFace_Pretrained_FineTuning/NewsDataSet/model.pt\n",
            "Classification Report:\n",
            "              precision    recall  f1-score   support\n",
            "\n",
            "           1     0.9454    0.8860    0.9148      2816\n",
            "           0     0.8941    0.9495    0.9210      2854\n",
            "\n",
            "    accuracy                         0.9180      5670\n",
            "   macro avg     0.9198    0.9178    0.9179      5670\n",
            "weighted avg     0.9196    0.9180    0.9179      5670\n",
            "\n"
          ],
          "name": "stdout"
        },
        {
          "output_type": "display_data",
          "data": {
            "image/png": "[encoded data removed]",
            "text/plain": [
              "<Figure size 432x288 with 2 Axes>"
            ]
          },
          "metadata": {
            "tags": [],
            "needs_background": "light"
          }
        }
      ]
    },
    {
      "cell_type": "code",
      "metadata": {
        "id": "MhH9aDdfkaBW"
      },
      "source": [
        ""
      ],
      "execution_count": null,
      "outputs": []
    }
  ]
}